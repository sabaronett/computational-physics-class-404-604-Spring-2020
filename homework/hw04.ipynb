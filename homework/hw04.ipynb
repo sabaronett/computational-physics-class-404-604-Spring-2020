{
 "cells": [
  {
   "cell_type": "markdown",
   "metadata": {},
   "source": [
    "# Homework #4: Numerically Solving Systems of Equations\n",
    "|Author| Stanley A. Baronett|\n",
    "|--|-------------------------------|\n",
    "|Created | 2/20/2020|"
   ]
  },
  {
   "cell_type": "markdown",
   "metadata": {
    "toc-hr-collapsed": false
   },
   "source": [
    "In this notebook, we will attempt to numerically solve the following system of equations:\n",
    "\n",
    "\\begin{align*}\n",
    "x_1^2 + x_1x_2 &= 10\\\\\n",
    "x_2 + 3x_1x_2^2 &= 57\n",
    "\\tag{1}\n",
    "\\end{align*}\n",
    "\n",
    "That is, we wish to find the values of $x_1$ and $x_2$ such that they simultaneously satisfy both equations."
   ]
  },
  {
   "cell_type": "markdown",
   "metadata": {},
   "source": [
    "## 1. Graphical Analysis\n",
    "\n",
    "Before we attempt a numerical solution, let's first plot both equations in the $x_1$-$x_2$ plane to get a rough idea of where the possible solution may lie&mdash;i.e., the intersection of both lines through some point $(x_1, x_2)$.\n",
    "\n",
    "We can define two functions, $f^\\prime_1$ and $f^\\prime_2$, both in terms of $x_1$ alone, by solving each equation for $x_2$.\n",
    "\n",
    "\\begin{align*}\n",
    "x_1^2 + x_1x_2 &= 10\\\\\n",
    "x_1x_2 &= 10 - x_1^2\\\\\n",
    "f^\\prime_1(x_1) = x_2 &= \\frac{10 - x_1^2}{x_1}\n",
    "\\tag{2}\n",
    "\\end{align*}\n",
    "\n",
    "Using the quadractic formula for the second equation:\n",
    "\\begin{align*}\n",
    "(3x_1)x_2^2 + (1)x_2 - 57 &= 0\\\\\n",
    "x_2 &= \\frac{-1 \\pm \\sqrt{1^2 -4(3x_1)(-57)}}{2(3x_1)}\\\\\n",
    "f^\\prime_2(x_1) = x_2 &= \\frac{\\pm\\sqrt{1 + 684x_1}-1}{6x}\n",
    "\\tag{3}\n",
    "\\end{align*}"
   ]
  },
  {
   "cell_type": "code",
   "execution_count": 1,
   "metadata": {},
   "outputs": [
    {
     "data": {
      "image/png": "[encoded data removed]",
      "text/plain": [
       "<Figure size 432x288 with 1 Axes>"
      ]
     },
     "metadata": {
      "needs_background": "light"
     },
     "output_type": "display_data"
    }
   ],
   "source": [
    "import matplotlib.pyplot as plt\n",
    "import numpy as np\n",
    "\n",
    "f1 = lambda x: (10.-x*x)/x\n",
    "f2p = lambda x: (np.sqrt(1.+684*x)-1)/6./x # positive soln.\n",
    "f2m = lambda x: (-np.sqrt(1.+684*x)-1)/6./x # negative soln\n",
    "x = np.arange(.1, 6, .1)\n",
    "\n",
    "plt.figure()\n",
    "plt.title(r'Figure 1. $Solution \\hspace{.5} Space$', fontsize='xx-large', fontweight='bold')\n",
    "plt.xlabel(r'$x_1$', fontsize='large')\n",
    "plt.xlim(0, 6)\n",
    "plt.ylabel(r'$x_2$', fontsize='large')\n",
    "plt.ylim(-8, 8)\n",
    "plt.axvline(color='k')\n",
    "plt.axhline(color='k')\n",
    "plt.plot(x, f1(x), label='$f^\\prime_1$')\n",
    "plt.plot(x, f2p(x), color='orange', label='$f^\\prime_{2\\plus}$')\n",
    "plt.plot(x, f2m(x), color='orangered', label='$f^\\prime_{2\\minus}$')\n",
    "plt.plot(2, 3, 'o', color='green', label='soln.')\n",
    "plt.plot(4.4, -2, 'o', color='green')\n",
    "plt.legend(loc='best', fontsize='x-large')\n",
    "plt.show()"
   ]
  },
  {
   "cell_type": "markdown",
   "metadata": {},
   "source": [
    "As seen in Fig. 1, we expect to find solutions around $(2, 3)$ and $(4.4, -2)$."
   ]
  },
  {
   "cell_type": "markdown",
   "metadata": {},
   "source": [
    "## 2. Newton–Raphson Method: Theory\n",
    "\n",
    "We can use the ***Newton–Raphson method*** to solve Eq. 1 or any _N_ systems of nonlinear equations, with _N_ unknowns:\n",
    "\n",
    "\\begin{equation}\n",
    "f_{i}(x_{1}, x_{2},\\dots, x_{N})=0, \\quad i=1,2,....,N\n",
    "\\end{equation}\n",
    "\n",
    "And for Eq. 1:\n",
    "\n",
    "\\begin{equation}\n",
    "{\\bf f}=\\left[ \\begin{array}{c} f_{1} \\\\ f_{2}  \\end{array}\\right] = \\left[ \\begin{array}{c} x_{1}^2+x_{1}x_{2}-10 \\\\ x_{2}+3x_{1}x_{2}^2-57 \\end{array}\\right] = 0\n",
    "\\tag{4}\n",
    "\\end{equation}\n",
    "\n",
    "As with the Newton–Raphson method in general, we begin with an initial guess reasonably close to the true solution(s) then make a correction using its tangent line, i.e.,\n",
    "\n",
    "\\begin{equation}\n",
    "f_{i}(x_{1}+\\Delta x_{1}, x_{2}+\\Delta x_{2})=0, \\quad i=1,2\n",
    "\\end{equation}\n",
    "\n",
    "Expanding as a Taylor series,\n",
    "\n",
    "\\begin{equation}\n",
    "\\approx f_{i}(x_{1},x_{2})+\\frac{\\partial f_{i}}{\\partial x_{1}}\\Delta x_{1}+\\frac{\\partial f_{i}}{\\partial x_{2}}\\Delta x_{2}=0, \\quad i=1,2\n",
    "\\end{equation}\n",
    "\n",
    "Expressing this first-order approximation in matrix form,\n",
    "\n",
    "\\begin{equation}\n",
    "\\left[ \\begin{array}{c} f_{1}\\\\ f_{2} \\end{array}\\right] + \\begin{bmatrix} \\dfrac{\\partial f_{1}}{\\partial x_{1}} & \\dfrac{\\partial f_{1}}{\\partial x_{2}}  \\\\ \\dfrac{\\partial f_{2}}{\\partial x_{1}} & \\dfrac{\\partial f_{2}}{\\partial x_{2}} \\end{bmatrix}\\left[ \\begin{array}{c} \\Delta x_{1} \\\\ \\Delta x_{2}  \\end{array}\\right] = 0\n",
    "\\tag{5}\n",
    "\\end{equation}\n",
    "\n",
    "or\n",
    "\n",
    "\\begin{equation}\n",
    "\\mathbf{J} \\mathbf{\\Delta x} = -\\mathbf{f},\n",
    "\\tag{6}\n",
    "\\end{equation}\n",
    "\n",
    "where $\\mathbf{J}$ is the _Jacobian matrix_. Following _Cramer's rule_, we solve for the vector of unknowns $\\mathbf{\\Delta x} = (\\Delta x_1, \\Delta x_2)^\\mathrm{T}$,\n",
    "\n",
    "\\begin{equation}\n",
    "\\mathbf{\\Delta x} = -\\mathbf{J}^{-1}\\mathbf{f}\n",
    "\\tag{7}\n",
    "\\end{equation}\n",
    "\n",
    "where the _inverse_ of the Jacobian matrix can be found by multiplying the reciprocal of its _determinant_ by the _transpose_ of the _cofactor matrix_ (also known as the _adjugate_ matrix):\n",
    "\n",
    "\\begin{equation}\n",
    "\\mathbf{J}^{-1} = \\dfrac{1}{\\det(\\mathbf{J})}\\mathbf{C}^\\textrm{T}.\n",
    "\\tag{8}\n",
    "\\end{equation}\n",
    "\n",
    "The matrix of cofactors $\\mathbf{C}$ can be found by first finding the _matrix of minors_ $\\mathbf{M}$, where each element is a _minor_ of the $i$th row and $j$th column of $\\mathbf{J}$, i.e., the determinant of the _submatrix_ formed by deleting said $i$th row and $j$th column. Then multiplying each $(i, j)$ minor by $(-1)^{i+j}$ yields its corresponding _cofactor_.\n",
    "\n",
    "The following compares these matricies and values for a simple $2$ × $2$ matrix $\\mathbf{A}$:\n",
    "\n",
    "\\begin{align*}\n",
    "\\mathbf{A} &= \\begin{bmatrix} a & b \\\\ c & d \\end{bmatrix}\\\\\n",
    "\\det(\\mathbf{A}) &= \\begin{vmatrix} a & b \\\\ c & d \\end{vmatrix} = ad - bc\\\\\n",
    "\\mathbf{M} &= \\begin{bmatrix} d & c \\\\ b & a \\end{bmatrix}\\\\\n",
    "\\mathbf{C} &= \\begin{bmatrix} d & -c \\\\ -b & a \\end{bmatrix}\\\\\n",
    "\\mathbf{C}^\\mathrm{T} &= \\begin{bmatrix} d & -b \\\\ -c & a \\end{bmatrix}\\\\\n",
    "\\mathbf{A}^{-1} &= \\dfrac{1}{\\det (\\mathbf{A})}\\mathbf{C}^\\mathrm{T}\\\\\n",
    "&= \\dfrac{1}{ad - bc}\\begin{bmatrix} d & -b \\\\ -c & a \\end{bmatrix}\n",
    "\\end{align*}\n",
    "\n",
    "Substituting this $\\mathbf{A}$ for our Jacobian matrix $\\mathbf{J}$, we find that Eq. 7 ultimately yields\n",
    "\n",
    "\\begin{eqnarray}\n",
    "\\Delta x_1=\\frac{bf_2-f_1d}{ad-bc}\\\\\n",
    "\\Delta x_2=\\frac{f_1c-af_2}{ad-bc}\n",
    "\\tag{9}\n",
    "\\end{eqnarray}\n",
    "\n",
    "For Eq. 4, we can analytically find each partial derivative of the Jacobian matrix:\n",
    "\n",
    "\\begin{align*}\n",
    "a = \\dfrac{\\partial f_{1}}{\\partial x_{1}} &= 2x_1 + x_2\\\\\n",
    "b = \\dfrac{\\partial f_{1}}{\\partial x_{2}} &= x_1\\\\\n",
    "c = \\dfrac{\\partial f_{2}}{\\partial x_{1}} &= 3x_2^2\\\\\n",
    "d = \\dfrac{\\partial f_{2}}{\\partial x_{2}} &= 6x_1x_2+ 1\n",
    "\\tag{10}\n",
    "\\end{align*}\n",
    "\n",
    "With these results we can compute the determinant of the Jacobian matrix:\n",
    "\n",
    "\\begin{align*}\n",
    "\\det (\\mathbf{J}) &= ad - bc\\\\\n",
    "&= (2x_1 + x_2)(6x_1x_2+ 1) - (x_1)(3x_2^2)\\\\\n",
    "&= 12x_1^2x_2 + 3x_2^2x_1 + 2x_1 + x_2\n",
    "\\tag{11}\n",
    "\\end{align*}\n",
    "\n",
    "And we can also compute the numerators of Eq. 9, namely\n",
    "\n",
    "\\begin{align*}\n",
    "bf_2-f_1d &= -6x_1^3x_2 -3x_1^2x_2^2 + 60x_1x_2 - x_1^2 - 57x_1\\\\\n",
    "f_1c-af_2 &= -3x_1^2x_2^2 - 2x_1x_2 - 31x_2^2 + 114x_1 + 57x_2\n",
    "\\tag{12}\n",
    "\\end{align*}\n",
    "\n",
    "Putting it all together,\n",
    "\n",
    "\\begin{align*}\n",
    "\\Delta x_1 &= \\dfrac{-6x_1^3x_2 -3x_1^2x_2^2 + 60x_1x_2 - x_1^2 - 57x_1}{12x_1^2x_2 + 3x_2^2x_1 + 2x_1 + x_2}\\\\\n",
    "\\Delta x_2 &= \\dfrac{-3x_1^2x_2^2 - 2x_1x_2 - 31x_2^2 + 114x_1 + 57x_2}{12x_1^2x_2 + 3x_2^2x_1 + 2x_1 + x_2}\n",
    "\\tag{13}\n",
    "\\end{align*}"
   ]
  },
  {
   "cell_type": "markdown",
   "metadata": {},
   "source": [
    "## 3. Newton–Raphson Method: Specific Implementation\n",
    "\n",
    "We now have all the analytic parts needed to write some functions to solve Eq. 1 using the Newton-Raphson method. Let's begin by defining a function `F(x)`, similar to $\\mathbf{f}$, that evaluates and returns $f_1$ and $f_2$ with vector values $(x_1, x_2)$."
   ]
  },
  {
   "cell_type": "code",
   "execution_count": 2,
   "metadata": {},
   "outputs": [],
   "source": [
    "def F(x):\n",
    "    \"\"\"\n",
    "    Return the evaluations of f1 and f2 with values x1 and x2 (see Eq. 4).\n",
    "    \n",
    "    Parameters\n",
    "    ----------\n",
    "    x : array_like\n",
    "        A vector containing the values of x1 and x2\n",
    "    \n",
    "    Returns\n",
    "    -------\n",
    "    f : array_like\n",
    "        A vector containing the evaluations of f1 and f2.\n",
    "    \"\"\"\n",
    "    f = [0, 0]\n",
    "    f[0] = x[0]*x[0] + x[0]*x[1] - 10.\n",
    "    f[1] = x[1] + 3.*x[0]*x[1]*x[1] - 57.\n",
    "    return f"
   ]
  },
  {
   "cell_type": "markdown",
   "metadata": {},
   "source": [
    "Next, let's define a function `Dx(x)` that will compute and return the values of $\\Delta x_1$ and $\\Delta x_2$ for a given $(x_1, x_2)$, as defined in Eq. 13."
   ]
  },
  {
   "cell_type": "code",
   "execution_count": 3,
   "metadata": {},
   "outputs": [],
   "source": [
    "def DX(x):\n",
    "    \"\"\"\n",
    "    Return the evaluations of Dx1 and Dx2 with values x1 and x2 (see Eq. 13).\n",
    "    \n",
    "    Parameters\n",
    "    ----------\n",
    "    x : array_like\n",
    "        A vector containing the values of x1 and x2\n",
    "    \n",
    "    Returns\n",
    "    -------\n",
    "    d : array_like\n",
    "        A vector containing the evaluations of D(x).\n",
    "    \"\"\"\n",
    "    d = [0, 0]\n",
    "    det = 12*x[0]**2*x[1] + 3*x[1]**2*x[0] + 2*x[0] + x[1]\n",
    "    d[0] = (-6*x[0]**3*x[1] - 3*x[0]**2*x[1]**2 + 60*x[0]*x[1] - x[0]**2 - 57*x[0]) / det\n",
    "    d[1] = (-3*x[0]**2*x[1]**2 - 2*x[0]*x[1] - 31*x[1]**2 + 114*x[0] + 57*x[1]) / det\n",
    "    return d"
   ]
  },
  {
   "cell_type": "markdown",
   "metadata": {},
   "source": [
    "Finally, we'll write our specific Newton-Raphson method starting with some guess $\\mathbf{x_0}$ and try to satisfy $\\mathbf{f}(\\mathbf{x_0}+\\mathbf{\\Delta x}) = 0$, repeating iteratively&mdash;at most `Nmax` times&mdash;until the result approaches zero to within a given precision, `eps`."
   ]
  },
  {
   "cell_type": "code",
   "execution_count": 4,
   "metadata": {},
   "outputs": [],
   "source": [
    "import numpy as np\n",
    "\n",
    "def newtonraphson_spec(x0, Nmax, eps=1.e-8):\n",
    "    \"\"\"\n",
    "    Find and return the numerical solution to Eq. 1\n",
    "    \n",
    "    Parameters\n",
    "    ----------\n",
    "    x0 : array_like\n",
    "        A vector containing the values of x10 and x20\n",
    "    Nmax : int\n",
    "        The maximum number of iterations\n",
    "    eps : float\n",
    "        Stop iterating once evaluation is comparable to this precision threshold\n",
    "    \n",
    "    Returns\n",
    "    -------\n",
    "    x0 : array_like\n",
    "        A vector containing the solution to Eq. 1 to within eps precision.\n",
    "    \"\"\"\n",
    "    for i in range(Nmax):\n",
    "        x0 = np.asarray(x0) + np.asarray(DX(x0))\n",
    "        fs = F(x0)\n",
    "        f1 = fs[0]\n",
    "        f2 = fs[1]\n",
    "        print(\"N =\", i)\n",
    "        print(\"    DX =\", DX(x0))\n",
    "        print(\"    X0 =\", x0)\n",
    "        print(\"    F =\", fs)\n",
    "        if abs(f1) < eps and abs(f2) < eps:\n",
    "            print(\"Solution is at\", x0,\" after \", i,\" iterations, with a precision of \", fs)\n",
    "            break\n",
    "    return x0"
   ]
  },
  {
   "cell_type": "code",
   "execution_count": 5,
   "metadata": {
    "scrolled": true
   },
   "outputs": [
    {
     "name": "stdout",
     "output_type": "stream",
     "text": [
      "N = 0\n",
      "    DX = [-0.0796452659844305, 1.6799157204016426]\n",
      "    X0 = [1.84042553 1.85106383]\n",
      "    F = [-3.2060887279311903, -36.230628088188546]\n",
      "N = 1\n",
      "    DX = [0.18579450045531185, -0.5527038847021811]\n",
      "    X0 = [1.76078027 3.53097955]\n",
      "    F = [-0.6823737437332493, 12.3902357504506]\n",
      "N = 2\n",
      "    DX = [0.002407153881393777, 0.022008393161797344]\n",
      "    X0 = [1.94657477 2.97827567]\n",
      "    F = [-0.41341042109296033, -2.222634348268997]\n",
      "N = 3\n",
      "    DX = [0.0005516636143574466, -0.0006493078290687936]\n",
      "    X0 = [1.94898192 3.00028406]\n",
      "    F = [-0.35397008849998457, -1.3672383692881382]\n",
      "N = 4\n",
      "    DX = [2.8568008475178773e-07, 2.4234278330581522e-05]\n",
      "    X0 = [1.94953358 2.99963475]\n",
      "    F = [-0.3514301192174898, -1.3757748839275976]\n",
      "N = 5\n",
      "    DX = [5.145725568916073e-07, -6.070270890181843e-07]\n",
      "    X0 = [1.94953387 2.99965899]\n",
      "    F = [-0.3513809028492503, -1.3748926184331864]\n",
      "N = 6\n",
      "    DX = [2.635505343183411e-10, 2.2509126974933543e-08]\n",
      "    X0 = [1.94953438 2.99965838]\n",
      "    F = [-0.3513785363737192, -1.3749006342993795]\n",
      "N = 7\n",
      "    DX = [4.778619447259917e-10, -5.637222393207203e-10]\n",
      "    X0 = [1.94953438 2.9996584 ]\n",
      "    F = [-0.35137849067323756, -1.3748998148842446]\n",
      "N = 8\n",
      "    DX = [2.4479356837742e-13, 2.090372044571227e-11]\n",
      "    X0 = [1.94953438 2.9996584 ]\n",
      "    F = [-0.3513784884755946, -1.3748998223283095]\n",
      "N = 9\n",
      "    DX = [4.436250090395743e-13, -5.237511119938587e-13]\n",
      "    X0 = [1.94953438 2.9996584 ]\n",
      "    F = [-0.3513784884331539, -1.3748998215673396]\n",
      "N = 10\n",
      "    DX = [3.6190651740863204e-16, 1.9253426726139223e-14]\n",
      "    X0 = [1.94953438 2.9996584 ]\n",
      "    F = [-0.35137848843111463, -1.3748998215742603]\n",
      "N = 11\n",
      "    DX = [1.4476260696345158e-16, -2.8952521392690316e-16]\n",
      "    X0 = [1.94953438 2.9996584 ]\n",
      "    F = [-0.3513784884310738, -1.374899821573564]\n",
      "N = 12\n",
      "    DX = [7.23813034817258e-17, 2.895252139269032e-16]\n",
      "    X0 = [1.94953438 2.9996584 ]\n",
      "    F = [-0.3513784884310738, -1.3748998215735782]\n",
      "N = 13\n",
      "    DX = [7.238130348172579e-17, -1.4476260696345158e-16]\n",
      "    X0 = [1.94953438 2.9996584 ]\n",
      "    F = [-0.3513784884310738, -1.3748998215735497]\n",
      "N = 14\n",
      "    DX = [7.238130348172579e-17, -1.4476260696345158e-16]\n",
      "    X0 = [1.94953438 2.9996584 ]\n",
      "    F = [-0.3513784884310738, -1.3748998215735497]\n"
     ]
    },
    {
     "data": {
      "text/plain": [
       "array([1.94953438, 2.9996584 ])"
      ]
     },
     "execution_count": 5,
     "metadata": {},
     "output_type": "execute_result"
    }
   ],
   "source": [
    "newtonraphson_spec([1,6], 15)"
   ]
  },
  {
   "cell_type": "markdown",
   "metadata": {},
   "source": [
    "Trying it out with an initial guess of $(1, 6)$ seems to have gotten us fairly close to our graphical expectation of $(2, 3)$. However, notice among the outputs that $\\mathbf{x} + \\mathbf{\\Delta x}$ reaches machine precision in just 7 iterations. In fact, the evaluations of $\\mathbf{f}(\\mathbf{x} + \\mathbf{\\Delta x})$ never even get close to the default precision threshold, let alone zero. The issue is also worsened by the accumulation of round-off errors among all the floating point operations when computing Eq. 13 for $\\mathbf{\\Delta x}$.\n",
    "\n",
    "Let's see how we fare in finding the other graphical solution ~$(4.4, -2)$ with an initial guess of $(5, -4)$."
   ]
  },
  {
   "cell_type": "code",
   "execution_count": 6,
   "metadata": {
    "scrolled": true
   },
   "outputs": [
    {
     "name": "stdout",
     "output_type": "stream",
     "text": [
      "N = 0\n",
      "    DX = [-0.2470688575929483, 0.43666074170442354]\n",
      "    X0 = [ 4.69601677 -2.62264151]\n",
      "    F = [-0.26339499580273085, 37.27846925090287]\n",
      "N = 1\n",
      "    DX = [-0.031912307266055685, 0.06652116227719362]\n",
      "    X0 = [ 4.44894791 -2.18598077]\n",
      "    F = [0.06782296414925248, 4.592071104700658]\n",
      "N = 2\n",
      "    DX = [3.59392537343539e-05, 0.0016860240219111814]\n",
      "    X0 = [ 4.41703561 -2.11945961]\n",
      "    F = [0.14847500613668707, 0.4059568538116878]\n",
      "N = 3\n",
      "    DX = [1.5660397008205976e-05, 9.64648509501758e-06]\n",
      "    X0 = [ 4.41707155 -2.11777358]\n",
      "    F = [0.1561636142914793, 0.3134595100576334]\n",
      "N = 4\n",
      "    DX = [9.157320559119325e-09, 7.442329044482009e-08]\n",
      "    X0 = [ 4.41708721 -2.11776393]\n",
      "    F = [0.15631140491561624, 0.31313844483396736]\n",
      "N = 5\n",
      "    DX = [6.685310430828809e-10, 4.116046530873242e-10]\n",
      "    X0 = [ 4.41708722 -2.11776386]\n",
      "    F = [0.15631179515410132, 0.3131344653788304]\n",
      "N = 6\n",
      "    DX = [3.9125461732550746e-13, 3.1772653066125824e-12]\n",
      "    X0 = [ 4.41708722 -2.11776386]\n",
      "    F = [0.1563118014623246, 0.3131344516836094]\n",
      "N = 7\n",
      "    DX = [2.7318369730451003e-14, 1.729722441770687e-14]\n",
      "    X0 = [ 4.41708722 -2.11776386]\n",
      "    F = [0.15631180147899038, 0.31313445151372576]\n",
      "N = 8\n",
      "    DX = [1.3229234736295807e-16, -2.315116078851766e-16]\n",
      "    X0 = [ 4.41708722 -2.11776386]\n",
      "    F = [0.15631180147924972, 0.313134451513136]\n",
      "N = 9\n",
      "    DX = [1.3229234736295805e-16, 3.638039552481346e-16]\n",
      "    X0 = [ 4.41708722 -2.11776386]\n",
      "    F = [0.15631180147924795, 0.3131344515131502]\n",
      "N = 10\n",
      "    DX = [1.3229234736295807e-16, -2.315116078851766e-16]\n",
      "    X0 = [ 4.41708722 -2.11776386]\n",
      "    F = [0.15631180147924972, 0.313134451513136]\n",
      "N = 11\n",
      "    DX = [1.3229234736295805e-16, 3.638039552481346e-16]\n",
      "    X0 = [ 4.41708722 -2.11776386]\n",
      "    F = [0.15631180147924795, 0.3131344515131502]\n"
     ]
    },
    {
     "data": {
      "text/plain": [
       "array([ 4.41708722, -2.11776386])"
      ]
     },
     "execution_count": 6,
     "metadata": {},
     "output_type": "execute_result"
    }
   ],
   "source": [
    "newtonraphson_spec([5, -4], 12)"
   ]
  },
  {
   "cell_type": "markdown",
   "metadata": {},
   "source": [
    "The result is at least consistent. This time notice how in the last four iterations the algorithm starts to oscillate around the solution. In particular, the value of $\\Delta x_2$ begins to flip between `-2.315116078851766e-16` and `3.638039552481346e-16`. Again, the evaluation of $\\mathbf{f}(\\mathbf{x} + \\mathbf{\\Delta x})$ never approaches `eps = 1.e-8`, but it gets a lot closer than the previous guess and numerical solution."
   ]
  },
  {
   "cell_type": "markdown",
   "metadata": {},
   "source": [
    "## 4. Bonus: Reasonable Guess\n",
    "\n",
    "Between the graphical and numerical methods, we can be fairly confident $(2, 3)$ is a solution. In fact, we can check it exactly by plugging it back into Eq. 1:\n",
    "\n",
    "\\begin{align*}\n",
    "x_1^2 + x_1x_2 &= 10\\\\\n",
    "2^2 + 2(3) &= 10\\\\\n",
    "4 + 6 &= 10\n",
    "\\end{align*}\n",
    "\n",
    "\\begin{align*}\n",
    "x_2 + 3x_1x_2^2 &= 57\\\\\n",
    "3 + 3(2)(3)^2 &= 57\\\\\n",
    "3 + 54 &= 57\n",
    "\\end{align*}\n",
    "\n",
    "Sure enough, the equations are satisfied. What about the other solution? If we take the numerical solution to be more accurate than our graphical approximation, we had found $x_1 \\simeq 4.41708722$ and $x_2 \\simeq -2.11776386$. Assuming an exact solution to exist, let's try squaring each, and taking instead the square root of the closest, reasonable integer.\n",
    "\n",
    "For example, for $x_1$, $(4.41708722)^2 \\simeq 19.51$, so let's assume $x_1 = \\sqrt{20}$ to be an exact solution. Similarly, $(-2.11776386)^2 \\simeq 4.48$, so let's also assume $x_2 = -\\sqrt{5}$ (since chosing $\\sqrt{4} = 2$ doesn't match our predictions). Plugging in these exact guesses,\n",
    "\n",
    "\\begin{align*}\n",
    "\\sqrt{20}^2 + \\sqrt{20}(-\\sqrt{5}) &= 10\\\\\n",
    "20 - \\sqrt{100} &= 10\\\\\n",
    "20 - 10 &= 10\n",
    "\\end{align*}\n",
    "\n",
    "So far so good.\n",
    "\n",
    "\\begin{align*}\n",
    "-\\sqrt{5} + 3\\sqrt{20}(-\\sqrt{5})^2 &= 57\\\\\n",
    "-\\sqrt{5} + 15\\sqrt{4(5)} &= 57\\\\\n",
    "-\\sqrt{5} + 30\\sqrt{5} &= 57\\\\\n",
    "29\\sqrt{5} &= 57\\\\\n",
    "\\sqrt{841(5)} &= 57\\\\\n",
    "~64.85\\dots &\\neq 57\n",
    "\\end{align*}\n",
    "\n",
    "Not quite. Perhaps the second solution does not have an exact form."
   ]
  }
 ],
 "metadata": {
  "kernelspec": {
   "display_name": "Python 3",
   "language": "python",
   "name": "python3"
  },
  "language_info": {
   "codemirror_mode": {
    "name": "ipython",
    "version": 3
   },
   "file_extension": ".py",
   "mimetype": "text/x-python",
   "name": "python",
   "nbconvert_exporter": "python",
   "pygments_lexer": "ipython3",
   "version": "3.7.6"
  },
  "toc-autonumbering": false,
  "toc-showcode": false,
  "toc-showmarkdowntxt": false
 },
 "nbformat": 4,
 "nbformat_minor": 4
}
