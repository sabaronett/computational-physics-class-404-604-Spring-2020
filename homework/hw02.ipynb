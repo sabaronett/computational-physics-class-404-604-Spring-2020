{
 "cells": [
  {
   "cell_type": "markdown",
   "metadata": {},
   "source": [
    "# Homework #2:\n",
    "|Author| Stanley A. Baronett|\n",
    "|--|-------------------------------|\n",
    "|Created | 2/9/2020|"
   ]
  },
  {
   "cell_type": "markdown",
   "metadata": {},
   "source": [
    "## The Quadratic Equation\n",
    "\n",
    "The roots of a quadratic polynomial,\n",
    "\n",
    "\\begin{equation}\n",
    "ax^2 + bx + c, \\quad a\\neq0,\n",
    "\\tag{1}\n",
    "\\end{equation}\n",
    "\n",
    "can be found analytically with either of the following two formulas:\n",
    "\n",
    "\\begin{equation}\n",
    "x_{1,2} = \\frac{-b \\pm \\sqrt{b^2 - 4ac}}{2a},\n",
    "\\tag{2}\n",
    "\\end{equation}\n",
    "\n",
    "\\begin{equation}\n",
    "x^\\prime_{1,2} = \\frac{-2c}{b \\pm \\sqrt{b^2 - 4ac}},\n",
    "\\tag{3}\n",
    "\\end{equation}\n",
    "\n",
    "where\n",
    "\\begin{equation}\n",
    "b^2 - 4ac\n",
    "\\tag{4}\n",
    "\\end{equation}\n",
    "\n",
    "is the ***discriminant***. A quadratic polynomial, with _real_ coefficients $a, b,$ and $c$, has two distinct real roots if the discriminant is positive and two complex roots if it is negative. The two roots are equal if and only if the discriminant is zero."
   ]
  },
  {
   "cell_type": "markdown",
   "metadata": {},
   "source": [
    "### A. Functions to Calculate\n",
    "Let's first write two separate functions to calculate and return the real quadratic roots given by Eqs. 2 and 3."
   ]
  },
  {
   "cell_type": "code",
   "execution_count": 137,
   "metadata": {},
   "outputs": [],
   "source": [
    "import math\n",
    "\n",
    "def quadroots1(c):\n",
    "    \"\"\"\n",
    "    Return the real roots of a quadratic with real coefficients given in c (see Eq. 2).\n",
    "    \n",
    "    The values in the rank-1 array `c` are real coefficients of a quadratic.\n",
    "    Since p is of length 3, the quadratic is described by::\n",
    "\n",
    "        c[0] * x**2 + c[1] * x + c[2]\n",
    "    \n",
    "    Parameters\n",
    "    ----------\n",
    "    c : array_like\n",
    "        Rank-1 array with length 3 of real quadratic coefficients.\n",
    "    \n",
    "    Returns\n",
    "    -------\n",
    "    roots : ndarray\n",
    "        An array containing the real roots of the quadratic.\n",
    "    \n",
    "    Raises\n",
    "    ------\n",
    "    ValueError\n",
    "        When `c` is not of length 3, c[0] = 0, or the discriminant is negative (i.e., complex roots).\n",
    "    \"\"\"\n",
    "    if len(c) != 3:\n",
    "        raise ValueError(\"Input must be a rank-1 array with length 3.\")\n",
    "    elif c[0] == 0:\n",
    "        raise ValueError(\"Second-degree coefficient, a, cannot be 0.\")\n",
    "    else:\n",
    "        a, b, c = c[0], c[1], c[2] # store coefficients\n",
    "        disc = b*b - 4*a*c         # discriminant\n",
    "        \n",
    "        if disc < 0:\n",
    "            raise ValueError(\"Discriminant negative (complex roots).\")\n",
    "        \n",
    "        x = (-b + math.sqrt(disc))/2/a\n",
    "        roots = [x]\n",
    "        if disc > 0:               # two distinct real roots       \n",
    "            x = (-b - math.sqrt(disc))/2/a\n",
    "            roots.append(x)\n",
    "        return roots"
   ]
  },
  {
   "cell_type": "code",
   "execution_count": 138,
   "metadata": {},
   "outputs": [],
   "source": [
    "import math\n",
    "\n",
    "def quadroots2(c):\n",
    "    \"\"\"\n",
    "    Return the real roots of a quadratic with real coefficients given in c (see Eq. 3).\n",
    "    \n",
    "    The values in the rank-1 array `c` are real coefficients of a quadratic.\n",
    "    Since p is of length 3, the quadratic is described by::\n",
    "\n",
    "        c[0] * x**2 + c[1] * x + c[2]\n",
    "    \n",
    "    Parameters\n",
    "    ----------\n",
    "    c : array_like\n",
    "        Rank-1 array with length 3 of real quadratic coefficients.\n",
    "    \n",
    "    Returns\n",
    "    -------\n",
    "    roots : ndarray\n",
    "        An array containing the real roots of the quadratic.\n",
    "    \n",
    "    Raises\n",
    "    ------\n",
    "    ValueError\n",
    "        When `c` is not of length 3, c[0] = 0, or the discriminant is negative (i.e., complex roots).\n",
    "    \"\"\"\n",
    "    if len(c) != 3:\n",
    "        raise ValueError(\"Input must be a rank-1 array with length 3.\")\n",
    "    elif c[0] == 0:\n",
    "        raise ValueError(\"Second-degree coefficient, a, cannot be 0.\")\n",
    "    else:\n",
    "        a, b, c = c[0], c[1], c[2] # store coefficients\n",
    "        disc = b*b - 4*a*c         # discriminant\n",
    "        \n",
    "        if disc < 0:\n",
    "            raise ValueError(\"Discriminant negative (complex roots).\")\n",
    "        elif disc == 0 and b == 0:\n",
    "            return [0]             # avoid division by zero\n",
    "        else:\n",
    "            x = -2*c/(b + math.sqrt(disc))\n",
    "            roots = [x]\n",
    "            if disc > 0:               # two distinct real roots       \n",
    "                x = -2*c/(b - math.sqrt(disc))\n",
    "                roots.append(x)\n",
    "            return roots"
   ]
  },
  {
   "cell_type": "markdown",
   "metadata": {},
   "source": [
    "We can try these solvers out with an easy example. First let's graph\n",
    "\n",
    "\\begin{equation}\n",
    "f(x) = x^2 - 1.\n",
    "\\tag{5}\n",
    "\\end{equation}"
   ]
  },
  {
   "cell_type": "code",
   "execution_count": 171,
   "metadata": {},
   "outputs": [
    {
     "data": {
      "image/png": "[encoded data removed]",
      "text/plain": [
       "<Figure size 360x360 with 1 Axes>"
      ]
     },
     "metadata": {
      "needs_background": "light"
     },
     "output_type": "display_data"
    }
   ],
   "source": [
    "import numpy as np\n",
    "import matplotlib.pyplot as plt\n",
    "\n",
    "f = lambda x: x*x - 1\n",
    "x = np.arange(-2, 2, 0.1)\n",
    "\n",
    "plt.figure(figsize=[5,5])\n",
    "plt.title(r'$f(x) = x^2 - 1$')\n",
    "plt.xlabel(r'$x$')\n",
    "plt.ylabel(r'$f(x)$')\n",
    "plt.grid()\n",
    "plt.plot(x, f(x))\n",
    "plt.plot(x, x*0, 'k')\n",
    "plt.tight_layout()\n",
    "plt.show()"
   ]
  },
  {
   "cell_type": "markdown",
   "metadata": {},
   "source": [
    "### First with $n$ = 1, 3, 5"
   ]
  },
  {
   "cell_type": "code",
   "execution_count": null,
   "metadata": {},
   "outputs": [],
   "source": [
    "x = np.arange(-np.pi, np.pi, 0.01)\n",
    "y1 = f(x, 1)\n",
    "y3 = f(x, 3)\n",
    "y5 = f(x, 5)\n",
    "\n",
    "xticks = np.arange(-np.pi, np.pi+np.pi/4, np.pi/4)\n",
    "xlabels = [r'$-\\pi$',r'$-3\\pi/4$',r'$-\\pi/2$',\n",
    "           r'$-\\pi/4$',0,r'$\\pi/4$',\n",
    "           r'$\\pi/2$',r'$3\\pi/4$',r'$\\pi$']\n",
    "yticks = np.arange(-2*np.pi, 2*np.pi+np.pi/4, np.pi/4)\n",
    "ylabels = [r'$-2\\pi$',r'$-7\\pi/8$',r'$-3\\pi/2$',r'$-5\\pi/4$',\n",
    "           r'$-\\pi$',r'$-3\\pi/4$',r'$-\\pi/2$',r'$-\\pi/4$',0,\n",
    "           r'$\\pi/4$',r'$\\pi/2$',r'$3\\pi/4$',r'$\\pi$',\n",
    "           r'$5\\pi/4$',r'$3\\pi/2$',r'$7\\pi/8$',r'$2\\pi$',]\n",
    "\n",
    "plt.figure(figsize=[5,10])\n",
    "plt.title(r'$f(x)$ for various $n$')\n",
    "plt.xlabel(r'$x$')\n",
    "plt.xlim(-np.pi,np.pi)\n",
    "plt.xticks(xticks, xlabels)\n",
    "plt.ylabel(r'$f(x)$')\n",
    "plt.ylim(-2*np.pi,2*np.pi)\n",
    "plt.yticks(yticks, ylabels)\n",
    "plt.grid()\n",
    "plt.plot(x, y1, label=r'$n=1$')\n",
    "plt.plot(x, y3, label=r'$n=3$')\n",
    "plt.plot(x, y5, label=r'$n=5$')\n",
    "plt.legend(loc=\"best\")\n",
    "plt.show()"
   ]
  }
 ],
 "metadata": {
  "kernelspec": {
   "display_name": "Python 3",
   "language": "python",
   "name": "python3"
  },
  "language_info": {
   "codemirror_mode": {
    "name": "ipython",
    "version": 3
   },
   "file_extension": ".py",
   "mimetype": "text/x-python",
   "name": "python",
   "nbconvert_exporter": "python",
   "pygments_lexer": "ipython3",
   "version": "3.7.6"
  }
 },
 "nbformat": 4,
 "nbformat_minor": 4
}
