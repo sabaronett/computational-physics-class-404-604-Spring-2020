{
 "cells": [
  {
   "cell_type": "markdown",
   "metadata": {},
   "source": [
    "# Homework #2:\n",
    "|Author| Stanley A. Baronett|\n",
    "|--|-------------------------------|\n",
    "|Created | 2/9/2020|"
   ]
  },
  {
   "cell_type": "markdown",
   "metadata": {},
   "source": [
    "## The Quadratic Equation\n",
    "\n",
    "The roots of a quadratic polynomial,\n",
    "\n",
    "\\begin{equation}\n",
    "ax^2 + bx + c, \\quad a\\neq0,\n",
    "\\tag{1}\n",
    "\\end{equation}\n",
    "\n",
    "can be found analytically with either of the following two formulas:\n",
    "\n",
    "\\begin{equation}\n",
    "x_{1,2} = \\frac{-b \\pm \\sqrt{b^2 - 4ac}}{2a},\n",
    "\\tag{2}\n",
    "\\end{equation}\n",
    "\n",
    "\\begin{equation}\n",
    "x^\\prime_{1,2} = \\frac{-2c}{b \\pm \\sqrt{b^2 - 4ac}},\n",
    "\\tag{3}\n",
    "\\end{equation}\n",
    "\n",
    "where\n",
    "\\begin{equation}\n",
    "b^2 - 4ac\n",
    "\\tag{4}\n",
    "\\end{equation}\n",
    "\n",
    "is the ***discriminant***. A quadratic polynomial, with _real_ coefficients $a, b,$ and $c$, has two distinct real roots if the discriminant is positive and two complex roots if it is negative. The two roots are equal if and only if the discriminant is zero."
   ]
  },
  {
   "cell_type": "markdown",
   "metadata": {},
   "source": [
    "### A. Functions to Calculate\n",
    "Let's first write two separate functions to calculate and return the real quadratic roots given by Eqs. 2 and 3."
   ]
  },
  {
   "cell_type": "code",
   "execution_count": 29,
   "metadata": {},
   "outputs": [],
   "source": [
    "import math\n",
    "\n",
    "def quadroots1(c):\n",
    "    \"\"\"\n",
    "    Return the real roots of a quadratic with real coefficients given in c (see Eq. 2).\n",
    "    \n",
    "    The values in the rank-1 array `c` are real coefficients of a quadratic.\n",
    "    Since p is of length 3, the quadratic is described by::\n",
    "\n",
    "        c[0] * x**2 + c[1] * x + c[2]\n",
    "    \n",
    "    Parameters\n",
    "    ----------\n",
    "    c : array_like\n",
    "        Rank-1 array with length 3 of real quadratic coefficients.\n",
    "    \n",
    "    Returns\n",
    "    -------\n",
    "    roots : ndarray\n",
    "        An array containing the real roots of the quadratic.\n",
    "    \n",
    "    Raises\n",
    "    ------\n",
    "    ValueError\n",
    "        When `c` is not of length 3, c[0] = 0, or the discriminant is negative (i.e., complex roots).\n",
    "    \n",
    "    Examples\n",
    "    --------\n",
    "    >>> coeff = [1, 0, -1]\n",
    "    >>> quadroots1(coeff)\n",
    "    [1.0, -1.0]\n",
    "    \"\"\"\n",
    "    if len(c) != 3:\n",
    "        raise ValueError(\"Input must be a rank-1 array with length 3.\")\n",
    "    elif c[0] == 0:\n",
    "        raise ValueError(\"Second-degree coefficient, a, cannot be 0.\")\n",
    "    else:\n",
    "        a, b, c = c[0], c[1], c[2] # store coefficients\n",
    "        disc = b*b - 4*a*c         # discriminant\n",
    "        \n",
    "        if disc < 0:\n",
    "            raise ValueError(\"Discriminant negative (complex roots).\")\n",
    "        \n",
    "        x = (-b + math.sqrt(disc))/2/a\n",
    "        roots = [x]\n",
    "        if disc > 0:               # two distinct real roots       \n",
    "            x = (-b - math.sqrt(disc))/2/a\n",
    "            roots.append(x)\n",
    "        return roots"
   ]
  },
  {
   "cell_type": "code",
   "execution_count": 30,
   "metadata": {},
   "outputs": [],
   "source": [
    "import math\n",
    "\n",
    "def quadroots2(c):\n",
    "    \"\"\"\n",
    "    Return the real roots of a quadratic with real coefficients given in c (see Eq. 3).\n",
    "    \n",
    "    The values in the rank-1 array `c` are real coefficients of a quadratic.\n",
    "    Since p is of length 3, the quadratic is described by::\n",
    "\n",
    "        c[0] * x**2 + c[1] * x + c[2]\n",
    "    \n",
    "    Parameters\n",
    "    ----------\n",
    "    c : array_like\n",
    "        Rank-1 array with length 3 of real quadratic coefficients.\n",
    "    \n",
    "    Returns\n",
    "    -------\n",
    "    roots : ndarray\n",
    "        An array containing the real roots of the quadratic.\n",
    "    \n",
    "    Raises\n",
    "    ------\n",
    "    ValueError\n",
    "        When `c` is not of length 3, c[0] = 0, or the discriminant is negative (i.e., complex roots).\n",
    "    \n",
    "    Examples\n",
    "    --------\n",
    "    >>> coeff = [1, 0, -1]\n",
    "    >>> quadroots2(coeff)\n",
    "    [1.0, -1.0]\n",
    "    \"\"\"\n",
    "    if len(c) != 3:\n",
    "        raise ValueError(\"Input must be a rank-1 array with length 3.\")\n",
    "    elif c[0] == 0:\n",
    "        raise ValueError(\"Second-degree coefficient, a, cannot be 0.\")\n",
    "    else:\n",
    "        a, b, c = c[0], c[1], c[2] # store coefficients\n",
    "        disc = b*b - 4*a*c         # discriminant\n",
    "        \n",
    "        if disc < 0:\n",
    "            raise ValueError(\"Discriminant negative (complex roots).\")\n",
    "        elif disc == 0 and b == 0:\n",
    "            return [0]             # avoid division by zero\n",
    "        else:\n",
    "            x = -2*c/(b + math.sqrt(disc))\n",
    "            roots = [x]\n",
    "            if disc > 0:               # two distinct real roots       \n",
    "                x = -2*c/(b - math.sqrt(disc))\n",
    "                roots.append(x)\n",
    "            return roots"
   ]
  },
  {
   "cell_type": "markdown",
   "metadata": {},
   "source": [
    "We can test these solvers out with a simple example. First let's graph\n",
    "\n",
    "\\begin{equation}\n",
    "f(x) = x^2 - 1,\n",
    "\\tag{5}\n",
    "\\end{equation}\n",
    "\n",
    "where our quadratic coefficients (Eq. 1) are\n",
    "\n",
    "\\begin{align*}\n",
    "a &= 1\\\\\n",
    "b &= 0\\\\\n",
    "c &= -1.\n",
    "\\end{align*}"
   ]
  },
  {
   "cell_type": "code",
   "execution_count": 23,
   "metadata": {},
   "outputs": [
    {
     "data": {
      "image/png": "[encoded data removed]",
      "text/plain": [
       "<Figure size 360x360 with 1 Axes>"
      ]
     },
     "metadata": {
      "needs_background": "light"
     },
     "output_type": "display_data"
    }
   ],
   "source": [
    "import numpy as np\n",
    "import matplotlib.pyplot as plt\n",
    "\n",
    "f = lambda x: x*x - 1\n",
    "x = np.arange(-2, 2.1, 0.1)\n",
    "\n",
    "plt.figure(figsize=[5,5])\n",
    "plt.title(r'$f(x) = x^2 - 1$')\n",
    "plt.xlabel(r'$x$')\n",
    "plt.ylabel(r'$f(x)$')\n",
    "plt.axhline(color='k')\n",
    "plt.axvline(color='k')\n",
    "plt.grid()\n",
    "plt.plot(x, f(x))\n",
    "plt.plot(-1.,0, 'or')\n",
    "plt.plot(1.,0, 'or')\n",
    "plt.xlim([-2,2])\n",
    "plt.ylim([-1,3])\n",
    "plt.tight_layout()\n",
    "plt.show()"
   ]
  },
  {
   "cell_type": "markdown",
   "metadata": {},
   "source": [
    "As we can see, we expect to find roots at $x=-1$ and $x=1$. Now let's try our new solvers to verify they're working correctly."
   ]
  },
  {
   "cell_type": "code",
   "execution_count": 27,
   "metadata": {},
   "outputs": [
    {
     "name": "stdout",
     "output_type": "stream",
     "text": [
      "Eq. 2 roots at x  = [1.0, -1.0]\n",
      "Eq. 3 roots at x' = [1.0, -1.0]\n"
     ]
    }
   ],
   "source": [
    "# declare coeff's\n",
    "coeff = [1, 0, -1]\n",
    "print(\"Eq. 2 roots at x  =\", quadroots1(coeff))\n",
    "print(\"Eq. 3 roots at x' =\", quadroots2(coeff))"
   ]
  },
  {
   "cell_type": "markdown",
   "metadata": {},
   "source": [
    "So far so good."
   ]
  },
  {
   "cell_type": "markdown",
   "metadata": {},
   "source": [
    "### B. Error Investigation\n",
    "Careful inspection of Eqs. 2 and 3 reveals a potential source of significant error due to _substractive cancellation_ in the limit where $b^2 \\gg 4ac$. For example&mdash;depending on the root&mdash;we effectively find in the numerator and denominator of Eqs. 2 and 3 respectively,\n",
    "\n",
    "\\begin{align*}\n",
    "b - \\sqrt{b^2 - 4ac} &= \\lim_{c \\rightarrow 0} b - \\sqrt{b^2}\\\\\n",
    "&= \\lim_{c \\rightarrow 0} b - b.\n",
    "\\end{align*}\n",
    "\n",
    "We can get a handle on how substantial this error can become as the subtractive cancelation begins to dominate; for example, when $a=1, b=1, c=10^{-n}$, $n \\in \\mathbb{N^*}$, for successively larger $n$. But in order to quantify this error due to subtractive cancellation, we first need a methodology for calculating the _exact_ difference.\n",
    "\n",
    "#### Binomial Series\n",
    "If $k$ is any number and $|x| < 1$ then,\n",
    "\n",
    "\\begin{align*}\n",
    "{\\left( {1 + x} \\right)^k} & = \\sum\\limits_{n = 0}^\\infty  { {k \\choose n} {x^n}} \\,\\\\ &  = 1 + kx + \\frac{{k\\left( {k - 1} \\right)}}{{2!}}{x^2} + \\frac{{k\\left( {k - 1} \\right)\\left( {k - 2} \\right)}}{{3!}}{x^3} +  \\cdots,\n",
    "\\tag{6}\n",
    "\\end{align*}\n",
    "\n",
    "where the _binomial coefficient_ is given by\n",
    "\n",
    "\\begin{align*}\n",
    "{k \\choose n} & = \\frac{{k\\left( {k - 1} \\right)\\left( {k - 2} \\right) \\cdots \\left( {k - n + 1} \\right)}}{{n!}}\\hspace{0.25in}n = 1,2,3, \\ldots \\\\ {k \\choose 0} & = 1.\n",
    "\\end{align*}\n",
    "\n",
    "For Eqs. 2 and 3, we can re-express the square root of the discriminant as Eq. 6, with $b = b^2 = 1$, $-4ac = x$, and $1/2 = k$, as\n",
    "\n",
    "\\begin{align*}\n",
    "{\\left( {1 + x} \\right)^{1/2}} & = \\sum\\limits_{n = 0}^\\infty  { {1/2 \\choose n} {x^n}} \\,\\\\ &  = 1 + \\frac{1}{2}x + \\frac{{\\frac{1}{2}\\left( {\\frac{1}{2} - 1} \\right)}}{{2!}}{x^2} + \\frac{{\\frac{1}{2}\\left( {\\frac{1}{2} - 1} \\right)\\left( {\\frac{1}{2} - 2} \\right)}}{{3!}}{x^3} +  \\cdots\\\\\n",
    "&  = 1 + \\frac{1}{2}x - \\frac{1}{8}{x^2} + \\frac{3}{48}{x^3} +  \\cdots,\n",
    "\\tag{7}\n",
    "\\end{align*}\n",
    "\n",
    "where,\n",
    "\n",
    "\\begin{align*}\n",
    "{1/2 \\choose n} & = \\frac{{\\frac{1}{2}\\left( {\\frac{1}{2} - 1} \\right)\\left( {\\frac{1}{2} - 2} \\right) \\cdots \\left( {\\frac{1}{2} - n + 1} \\right)}}{{n!}}\\hspace{0.25in}n = 1,2,3, \\ldots \\\\\n",
    "\\end{align*}\n",
    "\n",
    "\n",
    "Thus, for example, if our coefficients are $a=1, b=1,$ and $c=10^{-1}=\\frac{1}{10}$, then in Eq. 7,\n",
    "\n",
    "\\begin{align*}\n",
    "x &= -4(1)\\left(\\frac{1}{10}\\right)\\\\\n",
    "&= -\\frac{4}{10}\\\\\n",
    "&= -\\frac{2}{5},\n",
    "\\end{align*}\n",
    "and the square root of the determinant becomes\n",
    "\n",
    "\\begin{align*}\n",
    "{\\left( {1 - \\frac{2}{5}} \\right)^{1/2}} &= 1 - \\frac{1}{2}\\left(\\frac{2}{5}\\right) + \\frac{1}{8}{\\left(\\frac{2}{5}\\right)^2} - \\frac{3}{48}{\\left(\\frac{2}{5}\\right)^3} +  \\cdots\\\\\n",
    "&= 1 - \\frac{1}{5} + \\frac{1}{50} - \\frac{1}{250} +  \\cdots\\\\\n",
    "&\\approx 0.816 \n",
    "\\end{align*}\n",
    "\n"
   ]
  },
  {
   "cell_type": "code",
   "execution_count": 36,
   "metadata": {},
   "outputs": [
    {
     "data": {
      "text/plain": [
       "0.7745966692414834"
      ]
     },
     "execution_count": 36,
     "metadata": {},
     "output_type": "execute_result"
    }
   ],
   "source": [
    "np.sqrt(0.6)"
   ]
  },
  {
   "cell_type": "code",
   "execution_count": 33,
   "metadata": {},
   "outputs": [
    {
     "data": {
      "text/plain": [
       "0.4"
      ]
     },
     "execution_count": 33,
     "metadata": {},
     "output_type": "execute_result"
    }
   ],
   "source": [
    "2/5"
   ]
  },
  {
   "cell_type": "code",
   "execution_count": 34,
   "metadata": {},
   "outputs": [
    {
     "data": {
      "text/plain": [
       "0.6"
      ]
     },
     "execution_count": 34,
     "metadata": {},
     "output_type": "execute_result"
    }
   ],
   "source": [
    "1-0.4"
   ]
  },
  {
   "cell_type": "code",
   "execution_count": 35,
   "metadata": {},
   "outputs": [
    {
     "data": {
      "text/plain": [
       "0.7745966692414834"
      ]
     },
     "execution_count": 35,
     "metadata": {},
     "output_type": "execute_result"
    }
   ],
   "source": [
    ".6**.5"
   ]
  },
  {
   "cell_type": "code",
   "execution_count": 31,
   "metadata": {},
   "outputs": [
    {
     "data": {
      "text/plain": [
       "0.7745966692414834"
      ]
     },
     "execution_count": 31,
     "metadata": {},
     "output_type": "execute_result"
    }
   ],
   "source": [
    "(1-(2/5))**.5"
   ]
  },
  {
   "cell_type": "code",
   "execution_count": 32,
   "metadata": {},
   "outputs": [
    {
     "data": {
      "text/plain": [
       "0.7745966692414834"
      ]
     },
     "execution_count": 32,
     "metadata": {},
     "output_type": "execute_result"
    }
   ],
   "source": [
    "import math\n",
    "\n",
    "math.sqrt(1-(2/5))"
   ]
  },
  {
   "cell_type": "code",
   "execution_count": 37,
   "metadata": {},
   "outputs": [
    {
     "data": {
      "text/plain": [
       "[-0.1127016653792583, -0.8872983346207417]"
      ]
     },
     "execution_count": 37,
     "metadata": {},
     "output_type": "execute_result"
    }
   ],
   "source": [
    "quadroots1([1,1,0.1])"
   ]
  },
  {
   "cell_type": "code",
   "execution_count": 38,
   "metadata": {},
   "outputs": [],
   "source": [
    "import math\n",
    "\n",
    "def binomial(c):\n",
    "    \"\"\"\n",
    "    Return the real roots of a quadratic with real coefficients given in c (see Eq. 3).\n",
    "    \n",
    "    The values in the rank-1 array `c` are real coefficients of a quadratic.\n",
    "    Since p is of length 3, the quadratic is described by::\n",
    "\n",
    "        c[0] * x**2 + c[1] * x + c[2]\n",
    "    \n",
    "    Parameters\n",
    "    ----------\n",
    "    c : array_like\n",
    "        Rank-1 array with length 3 of real quadratic coefficients.\n",
    "    \n",
    "    Returns\n",
    "    -------\n",
    "    roots : ndarray\n",
    "        An array containing the real roots of the quadratic.\n",
    "    \n",
    "    Raises\n",
    "    ------\n",
    "    ValueError\n",
    "        When `c` is not of length 3, c[0] = 0, or the discriminant is negative (i.e., complex roots).\n",
    "    \n",
    "    Examples\n",
    "    --------\n",
    "    >>> coeff = [1, 0, -1]\n",
    "    >>> quadroots2(coeff)\n",
    "    [1.0, -1.0]\n",
    "    \"\"\"\n",
    "    if len(c) != 3:\n",
    "        raise ValueError(\"Input must be a rank-1 array with length 3.\")\n",
    "    elif c[0] == 0:\n",
    "        raise ValueError(\"Second-degree coefficient, a, cannot be 0.\")\n",
    "    else:\n",
    "        a, b, c = c[0], c[1], c[2] # store coefficients\n",
    "        disc = b*b - 4*a*c         # discriminant\n",
    "        \n",
    "        if disc < 0:\n",
    "            raise ValueError(\"Discriminant negative (complex roots).\")\n",
    "        elif disc == 0 and b == 0:\n",
    "            return [0]             # avoid division by zero\n",
    "        else:\n",
    "            x = -2*c/(b + math.sqrt(disc))\n",
    "            roots = [x]\n",
    "            if disc > 0:               # two distinct real roots       \n",
    "                x = -2*c/(b - math.sqrt(disc))\n",
    "                roots.append(x)\n",
    "            return roots"
   ]
  },
  {
   "cell_type": "markdown",
   "metadata": {},
   "source": [
    "### First with $n$ = 1, 3, 5"
   ]
  },
  {
   "cell_type": "code",
   "execution_count": 4,
   "metadata": {},
   "outputs": [
    {
     "ename": "TypeError",
     "evalue": "<lambda>() takes 1 positional argument but 2 were given",
     "output_type": "error",
     "traceback": [
      "\u001b[0;31m---------------------------------------------------------------------------\u001b[0m",
      "\u001b[0;31mTypeError\u001b[0m                                 Traceback (most recent call last)",
      "\u001b[0;32m<ipython-input-4-3ced01228597>\u001b[0m in \u001b[0;36m<module>\u001b[0;34m\u001b[0m\n\u001b[1;32m      1\u001b[0m \u001b[0mx\u001b[0m \u001b[0;34m=\u001b[0m \u001b[0mnp\u001b[0m\u001b[0;34m.\u001b[0m\u001b[0marange\u001b[0m\u001b[0;34m(\u001b[0m\u001b[0;34m-\u001b[0m\u001b[0mnp\u001b[0m\u001b[0;34m.\u001b[0m\u001b[0mpi\u001b[0m\u001b[0;34m,\u001b[0m \u001b[0mnp\u001b[0m\u001b[0;34m.\u001b[0m\u001b[0mpi\u001b[0m\u001b[0;34m,\u001b[0m \u001b[0;36m0.01\u001b[0m\u001b[0;34m)\u001b[0m\u001b[0;34m\u001b[0m\u001b[0;34m\u001b[0m\u001b[0m\n\u001b[0;32m----> 2\u001b[0;31m \u001b[0my1\u001b[0m \u001b[0;34m=\u001b[0m \u001b[0mf\u001b[0m\u001b[0;34m(\u001b[0m\u001b[0mx\u001b[0m\u001b[0;34m,\u001b[0m \u001b[0;36m1\u001b[0m\u001b[0;34m)\u001b[0m\u001b[0;34m\u001b[0m\u001b[0;34m\u001b[0m\u001b[0m\n\u001b[0m\u001b[1;32m      3\u001b[0m \u001b[0my3\u001b[0m \u001b[0;34m=\u001b[0m \u001b[0mf\u001b[0m\u001b[0;34m(\u001b[0m\u001b[0mx\u001b[0m\u001b[0;34m,\u001b[0m \u001b[0;36m3\u001b[0m\u001b[0;34m)\u001b[0m\u001b[0;34m\u001b[0m\u001b[0;34m\u001b[0m\u001b[0m\n\u001b[1;32m      4\u001b[0m \u001b[0my5\u001b[0m \u001b[0;34m=\u001b[0m \u001b[0mf\u001b[0m\u001b[0;34m(\u001b[0m\u001b[0mx\u001b[0m\u001b[0;34m,\u001b[0m \u001b[0;36m5\u001b[0m\u001b[0;34m)\u001b[0m\u001b[0;34m\u001b[0m\u001b[0;34m\u001b[0m\u001b[0m\n\u001b[1;32m      5\u001b[0m \u001b[0;34m\u001b[0m\u001b[0m\n",
      "\u001b[0;31mTypeError\u001b[0m: <lambda>() takes 1 positional argument but 2 were given"
     ]
    }
   ],
   "source": [
    "x = np.arange(-np.pi, np.pi, 0.01)\n",
    "y1 = f(x, 1)\n",
    "y3 = f(x, 3)\n",
    "y5 = f(x, 5)\n",
    "\n",
    "xticks = np.arange(-np.pi, np.pi+np.pi/4, np.pi/4)\n",
    "xlabels = [r'$-\\pi$',r'$-3\\pi/4$',r'$-\\pi/2$',\n",
    "           r'$-\\pi/4$',0,r'$\\pi/4$',\n",
    "           r'$\\pi/2$',r'$3\\pi/4$',r'$\\pi$']\n",
    "yticks = np.arange(-2*np.pi, 2*np.pi+np.pi/4, np.pi/4)\n",
    "ylabels = [r'$-2\\pi$',r'$-7\\pi/8$',r'$-3\\pi/2$',r'$-5\\pi/4$',\n",
    "           r'$-\\pi$',r'$-3\\pi/4$',r'$-\\pi/2$',r'$-\\pi/4$',0,\n",
    "           r'$\\pi/4$',r'$\\pi/2$',r'$3\\pi/4$',r'$\\pi$',\n",
    "           r'$5\\pi/4$',r'$3\\pi/2$',r'$7\\pi/8$',r'$2\\pi$',]\n",
    "\n",
    "plt.figure(figsize=[5,10])\n",
    "plt.title(r'$f(x)$ for various $n$')\n",
    "plt.xlabel(r'$x$')\n",
    "plt.xlim(-np.pi,np.pi)\n",
    "plt.xticks(xticks, xlabels)\n",
    "plt.ylabel(r'$f(x)$')\n",
    "plt.ylim(-2*np.pi,2*np.pi)\n",
    "plt.yticks(yticks, ylabels)\n",
    "plt.grid()\n",
    "plt.plot(x, y1, label=r'$n=1$')\n",
    "plt.plot(x, y3, label=r'$n=3$')\n",
    "plt.plot(x, y5, label=r'$n=5$')\n",
    "plt.legend(loc=\"best\")\n",
    "plt.show()"
   ]
  }
 ],
 "metadata": {
  "kernelspec": {
   "display_name": "Python 3",
   "language": "python",
   "name": "python3"
  },
  "language_info": {
   "codemirror_mode": {
    "name": "ipython",
    "version": 3
   },
   "file_extension": ".py",
   "mimetype": "text/x-python",
   "name": "python",
   "nbconvert_exporter": "python",
   "pygments_lexer": "ipython3",
   "version": "3.7.6"
  }
 },
 "nbformat": 4,
 "nbformat_minor": 4
}
