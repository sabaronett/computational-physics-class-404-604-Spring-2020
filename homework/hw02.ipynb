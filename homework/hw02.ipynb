{
 "cells": [
  {
   "cell_type": "markdown",
   "metadata": {},
   "source": [
    "# Homework #2:\n",
    "|Author| Stanley A. Baronett|\n",
    "|--|-------------------------------|\n",
    "|Created | 2/9/2020|"
   ]
  },
  {
   "cell_type": "markdown",
   "metadata": {},
   "source": [
    "## Quadratic Roots\n",
    "\n",
    "The roots of a quadratic polynomial,\n",
    "\n",
    "\\begin{equation}\n",
    "ax^2 + bx + c, \\quad a\\neq0,\n",
    "\\tag{1}\n",
    "\\end{equation}\n",
    "\n",
    "can be found analytically with either of the following two formulas:\n",
    "\n",
    "\\begin{equation}\n",
    "x_{1,2} = \\frac{-b \\pm \\sqrt{b^2 - 4ac}}{2a},\n",
    "\\tag{2}\n",
    "\\end{equation}\n",
    "\n",
    "\\begin{equation}\n",
    "x^\\prime_{1,2} = \\frac{-2c}{b \\pm \\sqrt{b^2 - 4ac}},\n",
    "\\tag{3}\n",
    "\\end{equation}\n",
    "\n",
    "where\n",
    "\\begin{equation}\n",
    "b^2 - 4ac\n",
    "\\tag{4}\n",
    "\\end{equation}\n",
    "\n",
    "is the ***discriminant***. A quadratic polynomial, with _real_ coefficients $a, b,$ and $c$, has two distinct real roots if the discriminant is positive and two complex roots if it is negative. The two roots are equal if and only if the discriminant is zero."
   ]
  },
  {
   "cell_type": "markdown",
   "metadata": {},
   "source": [
    "### A. Functions to Calculate\n",
    "Let's first write two separate functions to calculate and return the real quadratic roots given by Eqs. 2 and 3."
   ]
  },
  {
   "cell_type": "code",
   "execution_count": 1,
   "metadata": {},
   "outputs": [],
   "source": [
    "import math\n",
    "\n",
    "def quadroots1(c):\n",
    "    \"\"\"\n",
    "    Return the real roots of a quadratic with real coefficients given in c (see Eq. 2).\n",
    "    \n",
    "    The values in the rank-1 array `c` are real coefficients of a quadratic.\n",
    "    Since p is of length 3, the quadratic is described by::\n",
    "\n",
    "        c[0] * x**2 + c[1] * x + c[2]\n",
    "    \n",
    "    Parameters\n",
    "    ----------\n",
    "    c : array_like\n",
    "        Rank-1 array with length 3 of real quadratic coefficients.\n",
    "    \n",
    "    Returns\n",
    "    -------\n",
    "    roots : ndarray\n",
    "        An array containing the real roots of the quadratic.\n",
    "    \n",
    "    Raises\n",
    "    ------\n",
    "    ValueError\n",
    "        When `c` is not of length 3, c[0] = 0, or the discriminant is negative (i.e., complex roots).\n",
    "    \n",
    "    Examples\n",
    "    --------\n",
    "    >>> coeff = [1, 0, -1]\n",
    "    >>> quadroots1(coeff)\n",
    "    [1.0, -1.0]\n",
    "    \"\"\"\n",
    "    if len(c) != 3:\n",
    "        raise ValueError(\"Input must be a rank-1 array with length 3.\")\n",
    "    elif c[0] == 0:\n",
    "        raise ValueError(\"Second-degree coefficient, a, cannot be 0.\")\n",
    "    else:\n",
    "        a, b, c = c[0], c[1], c[2] # store coefficients\n",
    "        disc = b*b - 4*a*c         # discriminant\n",
    "        \n",
    "        if disc < 0:\n",
    "            raise ValueError(\"Discriminant negative (complex roots).\")\n",
    "        \n",
    "        x = (-b + math.sqrt(disc))/2/a\n",
    "        roots = [x]\n",
    "        if disc > 0:               # two distinct real roots       \n",
    "            x = (-b - math.sqrt(disc))/2/a\n",
    "            roots.append(x)\n",
    "        return roots"
   ]
  },
  {
   "cell_type": "code",
   "execution_count": 2,
   "metadata": {},
   "outputs": [],
   "source": [
    "import math\n",
    "\n",
    "def quadroots2(c):\n",
    "    \"\"\"\n",
    "    Return the real roots of a quadratic with real coefficients given in c (see Eq. 3).\n",
    "    \n",
    "    The values in the rank-1 array `c` are real coefficients of a quadratic.\n",
    "    Since p is of length 3, the quadratic is described by::\n",
    "\n",
    "        c[0] * x**2 + c[1] * x + c[2]\n",
    "    \n",
    "    Parameters\n",
    "    ----------\n",
    "    c : array_like\n",
    "        Rank-1 array with length 3 of real quadratic coefficients.\n",
    "    \n",
    "    Returns\n",
    "    -------\n",
    "    roots : ndarray\n",
    "        An array containing the real roots of the quadratic.\n",
    "    \n",
    "    Raises\n",
    "    ------\n",
    "    ValueError\n",
    "        When `c` is not of length 3, c[0] = 0, or the discriminant is negative (i.e., complex roots).\n",
    "    \n",
    "    Examples\n",
    "    --------\n",
    "    >>> coeff = [1, 0, -1]\n",
    "    >>> quadroots2(coeff)\n",
    "    [1.0, -1.0]\n",
    "    \"\"\"\n",
    "    if len(c) != 3:\n",
    "        raise ValueError(\"Input must be a rank-1 array with length 3.\")\n",
    "    elif c[0] == 0:\n",
    "        raise ValueError(\"Second-degree coefficient, a, cannot be 0.\")\n",
    "    else:\n",
    "        a, b, c = c[0], c[1], c[2] # store coefficients\n",
    "        disc = b*b - 4*a*c         # discriminant\n",
    "        \n",
    "        if disc < 0:\n",
    "            raise ValueError(\"Discriminant negative (complex roots).\")\n",
    "        elif disc == 0 and b == 0:\n",
    "            return [0]             # avoid division by zero\n",
    "        else:\n",
    "            x = -2*c/(b + math.sqrt(disc))\n",
    "            roots = [x]\n",
    "            if disc > 0:               # two distinct real roots       \n",
    "                x = -2*c/(b - math.sqrt(disc))\n",
    "                roots.append(x)\n",
    "            return roots"
   ]
  },
  {
   "cell_type": "markdown",
   "metadata": {},
   "source": [
    "We can test these solvers out with a simple example. First let's graph\n",
    "\n",
    "\\begin{equation}\n",
    "f(x) = x^2 - 1,\n",
    "\\tag{5}\n",
    "\\end{equation}\n",
    "\n",
    "where our quadratic coefficients (Eq. 1) are\n",
    "\n",
    "\\begin{align*}\n",
    "a &= 1\\\\\n",
    "b &= 0\\\\\n",
    "c &= -1.\n",
    "\\end{align*}"
   ]
  },
  {
   "cell_type": "code",
   "execution_count": 3,
   "metadata": {},
   "outputs": [
    {
     "data": {
      "image/png": "[encoded data removed]",
      "text/plain": [
       "<Figure size 360x360 with 1 Axes>"
      ]
     },
     "metadata": {
      "needs_background": "light"
     },
     "output_type": "display_data"
    }
   ],
   "source": [
    "import numpy as np\n",
    "import matplotlib.pyplot as plt\n",
    "\n",
    "f = lambda x: x*x - 1\n",
    "x = np.arange(-2, 2.1, 0.1)\n",
    "\n",
    "plt.figure(figsize=[5,5])\n",
    "plt.title(r'Figure 1. $f(x) = x^2 - 1$')\n",
    "plt.xlabel(r'$x$')\n",
    "plt.ylabel(r'$f(x)$')\n",
    "plt.axhline(color='k')\n",
    "plt.axvline(color='k')\n",
    "plt.grid()\n",
    "plt.plot(x, f(x))\n",
    "plt.plot(-1.,0, 'or')\n",
    "plt.plot(1.,0, 'or')\n",
    "plt.xlim([-2,2])\n",
    "plt.ylim([-1,3])\n",
    "plt.tight_layout()\n",
    "plt.show()"
   ]
  },
  {
   "cell_type": "markdown",
   "metadata": {},
   "source": [
    "As we can see, we expect to find roots at $x=-1$ and $x=1$. Now let's try our new solvers to verify they're working correctly."
   ]
  },
  {
   "cell_type": "code",
   "execution_count": 4,
   "metadata": {},
   "outputs": [
    {
     "name": "stdout",
     "output_type": "stream",
     "text": [
      "Eq. 2 roots at x  = [1.0, -1.0]\n",
      "Eq. 3 roots at x' = [1.0, -1.0]\n"
     ]
    }
   ],
   "source": [
    "# declare coeff's\n",
    "coeff = [1, 0, -1]\n",
    "print(\"Eq. 2 roots at x  =\", quadroots1(coeff))\n",
    "print(\"Eq. 3 roots at x' =\", quadroots2(coeff))"
   ]
  },
  {
   "cell_type": "markdown",
   "metadata": {},
   "source": [
    "So far so good."
   ]
  },
  {
   "cell_type": "markdown",
   "metadata": {},
   "source": [
    "### B. Error Investigation\n",
    "Careful inspection of Eqs. 2 and 3 reveals a potential source of significant error due to _substractive cancellation_ in the limit where $b^2 \\gg 4ac$. For example&mdash;depending on the root&mdash;we effectively find in the numerator and denominator of Eqs. 2 and 3 respectively,\n",
    "\n",
    "\\begin{align*}\n",
    "b - \\sqrt{b^2 - 4ac} &= \\lim_{c \\rightarrow 0} b - \\sqrt{b^2}\\\\\n",
    "&= \\lim_{c \\rightarrow 0} b - b.\n",
    "\\end{align*}\n",
    "\n",
    "We can get a handle on how substantial this error can become as the subtractive cancelation begins to dominate; for example, when $a=1, b=1, c=10^{-n}$, $n \\in \\mathbb{N^*}$, for successively larger $n$. But in order to quantify this error due to subtractive cancellation, we first need a methodology for calculating the _exact_ difference.\n",
    "\n",
    "#### Binomial Series\n",
    "If $k$ is any number and $|x| < 1$ then,\n",
    "\n",
    "\\begin{align*}\n",
    "{\\left( {1 + x} \\right)^k} & = \\sum\\limits_{n = 0}^\\infty  { {k \\choose n} {x^n}} \\,\\\\ &  = 1 + kx + \\frac{{k\\left( {k - 1} \\right)}}{{2!}}{x^2} + \\frac{{k\\left( {k - 1} \\right)\\left( {k - 2} \\right)}}{{3!}}{x^3} +  \\cdots,\n",
    "\\tag{6}\n",
    "\\end{align*}\n",
    "\n",
    "where the _binomial coefficient_ is given by\n",
    "\n",
    "\\begin{align*}\n",
    "{k \\choose n} & = \\frac{{k\\left( {k - 1} \\right)\\left( {k - 2} \\right) \\cdots \\left( {k - n + 1} \\right)}}{{n!}}\\hspace{0.25in}n = 1,2,3, \\ldots \\\\ {k \\choose 0} & = 1.\n",
    "\\end{align*}\n",
    "\n",
    "For Eqs. 2 and 3, we can re-express the square root of the discriminant as Eq. 6, with $b = b^2 = 1$, $-4ac = x$, and $1/2 = k$, as\n",
    "\n",
    "\\begin{align*}\n",
    "{\\left( {1 + x} \\right)^{1/2}} & = \\sum\\limits_{n = 0}^\\infty  { {1/2 \\choose n} {x^n}} \\,\\\\ &  = 1 + \\frac{1}{2}x + \\frac{{\\frac{1}{2}\\left( {\\frac{1}{2} - 1} \\right)}}{{2!}}{x^2} + \\frac{{\\frac{1}{2}\\left( {\\frac{1}{2} - 1} \\right)\\left( {\\frac{1}{2} - 2} \\right)}}{{3!}}{x^3} +  \\cdots\\\\\n",
    "&  = 1 + \\frac{1}{2}x - \\frac{1}{8}{x^2} + \\frac{3}{48}{x^3} +  \\cdots,\n",
    "\\tag{7}\n",
    "\\end{align*}\n",
    "\n",
    "where,\n",
    "\n",
    "\\begin{align*}\n",
    "{1/2 \\choose n} & = \\frac{{\\frac{1}{2}\\left( {\\frac{1}{2} - 1} \\right)\\left( {\\frac{1}{2} - 2} \\right) \\cdots \\left( {\\frac{1}{2} - n + 1} \\right)}}{{n!}}\\hspace{0.25in}n = 1,2,3, \\ldots \\\\\n",
    "\\end{align*}\n",
    "\n",
    "In fact, this is one way to calculate&mdash;or more precisely, _approximate_&mdash;the square root of a number to machine precision."
   ]
  },
  {
   "cell_type": "markdown",
   "metadata": {},
   "source": [
    "#### Bonus: Binomial Series Calculator\n",
    "We can write a short script to finitely sum the terms in Eq. 6 to an arbitrary _n_ number of successively higher order terms."
   ]
  },
  {
   "cell_type": "code",
   "execution_count": 5,
   "metadata": {},
   "outputs": [],
   "source": [
    "from scipy.special import binom # use to calculate binomial coefficient\n",
    "\n",
    "def binom_series(x,k,n):\n",
    "    \"\"\"\n",
    "    Return the finite sum of n-order terms in the binomial series expansion of (1 + x)^k (see Eq. 6).\n",
    "    \n",
    "    Parameters\n",
    "    ----------\n",
    "    x : float\n",
    "        The value of x in the binomial series.\n",
    "        |x| must be less than 1 for the series to converge.\n",
    "    k : float\n",
    "        Exponent k of the binomial series.\n",
    "    n : int\n",
    "        Number of n-order terms to sum.\n",
    "    \n",
    "    Returns\n",
    "    -------\n",
    "    Sum : float\n",
    "        The sum of n-order terms in the binomial series (1 + x)^k\n",
    "    \"\"\"\n",
    "    Sum, term = 0, 0\n",
    "    for i in range(0, n+1):\n",
    "        term = binom(k,i)*x**i\n",
    "        Sum += term\n",
    "        print(i,\"th-order term:\", term, \"\\t sum=\", Sum)\n",
    "    return Sum"
   ]
  },
  {
   "cell_type": "markdown",
   "metadata": {},
   "source": [
    "Thus, for example, if our coefficients are $a=1, b=1,$ and $c=10^{-1}=\\frac{1}{10}$, then in Eq. 7,\n",
    "\n",
    "\\begin{align*}\n",
    "x &= -4(1)\\left(\\frac{1}{10}\\right)\\\\\n",
    "&= -\\frac{4}{10}\\\\\n",
    "&= -\\frac{2}{5},\n",
    "\\end{align*}\n",
    "\n",
    "and the square root of the discriminant becomes\n",
    "\n",
    "\\begin{align*}\n",
    "{\\left( {1 - \\frac{2}{5}} \\right)^{1/2}} &= 1 + \\frac{1}{2}\\left(-\\frac{2}{5}\\right) - \\frac{1}{8}{\\left(-\\frac{2}{5}\\right)^2} + \\frac{3}{48}{\\left(-\\frac{2}{5}\\right)^3} -  \\cdots\\\\\n",
    "&= 1 - \\frac{1}{5} - \\frac{1}{50} - \\frac{1}{250} +  \\cdots\\\\\n",
    "&\\approx 0.776\n",
    "\\end{align*}\n",
    "\n",
    "Trying this out with our new calculator out to 34 terms..."
   ]
  },
  {
   "cell_type": "code",
   "execution_count": 6,
   "metadata": {
    "scrolled": true
   },
   "outputs": [
    {
     "name": "stdout",
     "output_type": "stream",
     "text": [
      "0 th-order term: 1.0 \t sum= 1.0\n",
      "1 th-order term: -0.2 \t sum= 0.8\n",
      "2 th-order term: -0.020000000000000004 \t sum= 0.78\n",
      "3 th-order term: -0.004000000000000001 \t sum= 0.776\n",
      "4 th-order term: -0.0010000000000000002 \t sum= 0.775\n",
      "5 th-order term: -0.0002800000000000001 \t sum= 0.7747200000000001\n",
      "6 th-order term: -8.400000000000004e-05 \t sum= 0.7746360000000001\n",
      "7 th-order term: -2.6400000000000008e-05 \t sum= 0.7746096000000001\n",
      "8 th-order term: -8.580000000000004e-06 \t sum= 0.7746010200000001\n",
      "9 th-order term: -2.8600000000000014e-06 \t sum= 0.77459816\n",
      "10 th-order term: -9.724000000000006e-07 \t sum= 0.7745971876000001\n",
      "11 th-order term: -3.359200000000002e-07 \t sum= 0.77459685168\n",
      "12 th-order term: -1.1757200000000007e-07 \t sum= 0.774596734108\n",
      "13 th-order term: -4.1602400000000026e-08 \t sum= 0.7745966925056\n",
      "14 th-order term: -1.4858000000000011e-08 \t sum= 0.7745966776476\n",
      "15 th-order term: -5.348880000000004e-09 \t sum= 0.77459667229872\n",
      "16 th-order term: -1.9389690000000017e-09 \t sum= 0.774596670359751\n",
      "17 th-order term: -7.071534000000009e-10 \t sum= 0.7745966696525975\n",
      "18 th-order term: -2.592895800000003e-10 \t sum= 0.774596669393308\n",
      "19 th-order term: -9.552774000000008e-11 \t sum= 0.7745966692977803\n",
      "20 th-order term: -3.5345263800000025e-11 \t sum= 0.774596669262435\n",
      "21 th-order term: -1.3128240840000018e-11 \t sum= 0.7745966692493067\n",
      "22 th-order term: -4.893253404000006e-12 \t sum= 0.7745966692444134\n",
      "23 th-order term: -1.8296512728000024e-12 \t sum= 0.7745966692425837\n",
      "24 th-order term: -6.86119227300001e-13 \t sum= 0.7745966692418976\n",
      "25 th-order term: -2.5798082946480035e-13 \t sum= 0.7745966692416396\n",
      "26 th-order term: -9.723892802904017e-14 \t sum= 0.7745966692415424\n",
      "27 th-order term: -3.673470614430406e-14 \t sum= 0.7745966692415056\n",
      "28 th-order term: -1.3906710183200827e-14 \t sum= 0.7745966692414917\n",
      "29 th-order term: -5.2749590350072096e-15 \t sum= 0.7745966692414864\n",
      "30 th-order term: -2.0044844333027383e-15 \t sum= 0.7745966692414844\n",
      "31 th-order term: -7.62997300418462e-16 \t sum= 0.7745966692414836\n",
      "32 th-order term: -2.9089272078453857e-16 \t sum= 0.7745966692414833\n",
      "33 th-order term: -1.1106812975409654e-16 \t sum= 0.7745966692414832\n",
      "34 th-order term: -4.246722608244868e-17 \t sum= 0.7745966692414832\n"
     ]
    },
    {
     "data": {
      "text/plain": [
       "0.7745966692414832"
      ]
     },
     "execution_count": 6,
     "metadata": {},
     "output_type": "execute_result"
    }
   ],
   "source": [
    "binom_series(-.4, .5, 34)"
   ]
  },
  {
   "cell_type": "markdown",
   "metadata": {},
   "source": [
    "Since\n",
    "\n",
    "\\begin{align*}\n",
    "{\\left( {1 - \\frac{2}{5}} \\right)^{1/2}} &= {\\left( {\\frac{3}{5}} \\right)^{1/2}}\\\\\n",
    "&= \\sqrt{0.6},\n",
    "\\end{align*}\n",
    "\n",
    "let's compare our result with Python's built-in `math` function."
   ]
  },
  {
   "cell_type": "code",
   "execution_count": 7,
   "metadata": {},
   "outputs": [
    {
     "data": {
      "text/plain": [
       "0.7745966692414834"
      ]
     },
     "execution_count": 7,
     "metadata": {},
     "output_type": "execute_result"
    }
   ],
   "source": [
    "import math\n",
    "\n",
    "math.sqrt(.6)"
   ]
  },
  {
   "cell_type": "markdown",
   "metadata": {},
   "source": [
    "Without looking at the source code for the `math.sqrt` method, we can see that a binomial series expansion out to machine precision is likely one method for calculating square roots."
   ]
  },
  {
   "cell_type": "markdown",
   "metadata": {},
   "source": [
    "#### Consistent Theoretical Values\n",
    "This slight diversion shows us that the use of `math.sqrt` in our `quadroots1` and `quadroots2` already yields values as accurate as machine precision will allow for the binomial series. But to quantify the error due to subtractive cancellation when $a=1, b=1, c=10^{-n}$, $n \\in \\mathbb{N^*}$, for successively larger $n$, we need to define _finite, theoretical_ values for the roots with which to compare.\n",
    "\n",
    "If $x_{th}$ is the theoretical value of a quadratic root, and $x_c$ is the computed root, then the _absolute error_ is defined as\n",
    "\n",
    "$$\n",
    "\\Delta \\equiv |x_{th} - x_c|.\n",
    "$$\n",
    "\n",
    "The simplest, finite value for a theoretical quadratic root can be arrived at by taking the _first-order_ binomial series expansion of the square root of the discriminant. With $a=1, b=1$, from Eqs. 4 and 7,\n",
    "\n",
    "\\begin{align*}\n",
    "\\sqrt{1-4c} &= (1 - 4c)^{1/2}\\\\\n",
    "&= 1 - \\frac{1}{2}{4c}\\\\\n",
    "&= 1 - 2c, \\quad (c < 1)\n",
    "\\tag{8}\n",
    "\\end{align*}\n",
    "\n",
    "Plugging this back into Eqs. 2 and 3, our \"theoretical\" roots (for $c < 1$) become\n",
    "\n",
    "\\begin{align*}\n",
    "x_1 &= \\frac{-1 + (1 - 2c)}{2} = -c \\tag{9}\\\\\n",
    "x_2 &= \\frac{-1 - (1 - 2c)}{2} = c - 1 \\tag{10}\\\\\n",
    "x^\\prime_1 &= \\frac{-2c}{1 + (1 - 2c)} = \\frac{-c}{1-c} \\tag{11}\\\\\n",
    "x^\\prime_2 &= \\frac{-2c}{1 - (1 - 2c)} = -1 \\tag{12}\\\\\n",
    "\\end{align*}\n",
    "\n",
    "In fact, in the limit as $c \\rightarrow 0$, these \"theoretical\" prescriptions converge to the _exact, analytic_ roots for $a=b=1, c=0$: $x_1 = 0$ and $x_2 = -1$. We can now write a function to calculate our \"theoretical\" roots, which we'll then use to determine the absolute error of our original two methods."
   ]
  },
  {
   "cell_type": "code",
   "execution_count": 8,
   "metadata": {},
   "outputs": [],
   "source": [
    "def theoroots1(c):\n",
    "    return [-c, c-1]\n",
    "\n",
    "def theoroots2(c):\n",
    "    return [(-c/(1-c)), -1]"
   ]
  },
  {
   "cell_type": "markdown",
   "metadata": {},
   "source": [
    "Next we calculate both the computational and theoretical roots for subsequent orders of $c$ down to $10^{-16}$, compute their absoute errors $\\Delta$."
   ]
  },
  {
   "cell_type": "code",
   "execution_count": 9,
   "metadata": {},
   "outputs": [],
   "source": [
    "n = 17\n",
    "c = []\n",
    "deltas1, deltas2 = np.zeros((n-1,2)), np.zeros((n-1,2))\n",
    "\n",
    "for i in range(1,n):\n",
    "    c.append(10**(-i))\n",
    "    deltas1[i-1] = abs(np.asarray(theoroots1(10**(-i))) - np.asarray(quadroots1([1,1,10**(-i)])))\n",
    "    deltas2[i-1] = abs(np.asarray(theoroots2(10**(-i))) - np.asarray(quadroots2([1,1,10**(-i)])))"
   ]
  },
  {
   "cell_type": "markdown",
   "metadata": {},
   "source": [
    "Finally we plot the results as a function of $c$."
   ]
  },
  {
   "cell_type": "code",
   "execution_count": 10,
   "metadata": {},
   "outputs": [
    {
     "data": {
      "image/png": "[encoded data removed]",
      "text/plain": [
       "<Figure size 432x288 with 1 Axes>"
      ]
     },
     "metadata": {
      "needs_background": "light"
     },
     "output_type": "display_data"
    }
   ],
   "source": [
    "plt.figure()\n",
    "plt.title(\"Figure 2. Absolute Errors in the 1$^{st}$ Quadratic Root, $a=b=1$\")\n",
    "plt.xlabel(r'$c$')\n",
    "plt.ylabel(r'$\\Delta_1(c)$')\n",
    "plt.xscale('log')\n",
    "plt.yscale('log')\n",
    "plt.grid()\n",
    "plt.plot(c, deltas1[:,0], label=\"$\\Delta_1$\")\n",
    "plt.plot(c, deltas2[:,0], label=\"$\\Delta^\\prime_1$\")\n",
    "plt.legend(loc=\"best\")\n",
    "plt.show()"
   ]
  },
  {
   "cell_type": "markdown",
   "metadata": {},
   "source": [
    "As we can see, the formula in Eq. 3 is more precise in calculating the first root $x^\\prime_1$, as its corresponding absolute error $\\Delta^\\prime_1$ is consistently smaller than $\\Delta_1$ and decreases faster for smaller values of $c$. This makes sense since, for Eq. 2, the first root $x_1$ becomes _subtractive_ in the numerator, whereas the same root $x^\\prime_1$ in Eq. 3 becomes _additive_ in the denominator, for $b=1$ or $b>0$.\n",
    "\n",
    "We notice that our measure of $\\Delta^\\prime_1(c)$ is measureable down to $\\sim10^{-24}$. This stems from Eq. 11, where our \"theoretical\" first root is $x^\\prime_1 = \\frac{-c}{1-c}$. Since this denominator _rounds-off_ to unity for $c \\leq 10^{-16}$, the machine precision associated with the _overall division_, i.e., $\\frac{-c}{1}$, is limited only by the precision in storing $c$. Thus, we can store very precise and _distinct_ values of $x^\\prime_1$ smaller than $10^{-16}$."
   ]
  },
  {
   "cell_type": "code",
   "execution_count": 11,
   "metadata": {},
   "outputs": [
    {
     "data": {
      "image/png": "[encoded data removed]",
      "text/plain": [
       "<Figure size 432x288 with 1 Axes>"
      ]
     },
     "metadata": {
      "needs_background": "light"
     },
     "output_type": "display_data"
    }
   ],
   "source": [
    "plt.figure()\n",
    "plt.title(\"Figure 3. Absolute Errors in the 2$^{nd}$ Quadratic Root, $a=b=1$\")\n",
    "plt.xlabel(r'$c$')\n",
    "plt.ylabel(r'$\\Delta_2(c)$')\n",
    "plt.xscale('log')\n",
    "plt.yscale('log')\n",
    "plt.grid()\n",
    "plt.plot(c, deltas1[:,1], label=\"$\\Delta_2$\")\n",
    "plt.plot(c, deltas2[:,1], label=\"$\\Delta^\\prime_2$\")\n",
    "plt.legend(loc=\"best\")\n",
    "plt.show()"
   ]
  },
  {
   "cell_type": "markdown",
   "metadata": {},
   "source": [
    "Meanwhile, for the second root, the _converse_ is the case: $x_2$ in Eq. 2 is _additive_ in the numerator, and $x^\\prime_2$ in Eq. 3 is _subtractive_ in the denominator, for $b>0$. This time, Eq. 2's corresponding error $\\Delta_2$ is consistently smaller.\n",
    "\n",
    "We also notice that our measure of $\\Delta_2(c)$ can be no more accurate than $\\sim10^{-16}$. This is because in Eq. 10 our \"theoretical\" second root, $x_2 = c - 1$, itself reaches machine precision for values of $c \\approx 10^{-16}$, typical of the round-off errors associated with machine addition and subtraction."
   ]
  },
  {
   "cell_type": "markdown",
   "metadata": {},
   "source": [
    "### C. Extending Precision\n",
    "In part B., we measured and verified our suspicion that the error in subtractive cancelation will tend to dominate for \"two\" of the \"four\" real roots provided by Eqs. 2 and 3, depending on the sign of $b$. Specifically, we confirmed that, for machine computation,\n",
    "\n",
    "- If $b > 0$, then $x^\\prime_1$ and $x_2$ yield the most precise results.\n",
    "- And, conversely, if $b < 0$, then $x_1$ and $x^\\prime_2$ yield the most precise results.\n",
    "\n",
    "Thus, we can extend our two functions&mdash;or instead combine them with some extra logic&mdash;to always yield the most precise, real roots for arbitrary coefficients $a, b,$ and $c$."
   ]
  },
  {
   "cell_type": "code",
   "execution_count": 12,
   "metadata": {},
   "outputs": [],
   "source": [
    "def quadroots(c):\n",
    "    \"\"\"\n",
    "    Return the most precise, real roots of a quadratic with real coefficients given in c.\n",
    "    Extends `quadroots1()` and `quadroots2()` by avoiding errors due to subtractive cancellation, depending on the sign of `c[1]` (i.e., b in Eq. 1).\n",
    "    \n",
    "    The values in the rank-1 array `c` are real coefficients of a quadratic.\n",
    "    Since p is of length 3, the quadratic is described by::\n",
    "\n",
    "        c[0] * x**2 + c[1] * x + c[2]\n",
    "    \n",
    "    Parameters\n",
    "    ----------\n",
    "    c : array_like\n",
    "        Rank-1 array with length 3 of real quadratic coefficients.\n",
    "    \n",
    "    Returns\n",
    "    -------\n",
    "    roots : ndarray\n",
    "        An array containing the real roots of the quadratic.\n",
    "    \n",
    "    Raises\n",
    "    ------\n",
    "    ValueError\n",
    "        When `c` is not of length 3, c[0] = 0, or the discriminant is negative (i.e., complex roots).\n",
    "    \n",
    "    Examples\n",
    "    --------\n",
    "    >>> coeff = [1, 0, -1]\n",
    "    >>> quadroots1(coeff)\n",
    "    [1.0, -1.0]\n",
    "    \"\"\"\n",
    "    if c[1] > 0:\n",
    "        q2 = quadroots2(c)\n",
    "        roots = [q2[0]]\n",
    "        if len(q2) != 1:\n",
    "            roots.append(quadroots1(c)[1])\n",
    "    else:\n",
    "        q1 = quadroots1(c)\n",
    "        roots = [q1[0]]\n",
    "        if len(q1) != 1:\n",
    "            roots.append(quadroots2(c)[1])\n",
    "    return roots"
   ]
  },
  {
   "cell_type": "markdown",
   "metadata": {},
   "source": [
    "For verification, let's calculate the absolute errors again, but this time with our new extended function."
   ]
  },
  {
   "cell_type": "code",
   "execution_count": 13,
   "metadata": {},
   "outputs": [
    {
     "data": {
      "image/png": "[encoded data removed]",
      "text/plain": [
       "<Figure size 432x288 with 1 Axes>"
      ]
     },
     "metadata": {
      "needs_background": "light"
     },
     "output_type": "display_data"
    }
   ],
   "source": [
    "n = 17\n",
    "c = []\n",
    "deltas = np.zeros((n-1,2))\n",
    "\n",
    "for i in range(1,n):\n",
    "    c.append(10**(-i))\n",
    "    d1 = abs(theoroots2(10**(-i))[0] - quadroots([1,1,10**(-i)])[0])\n",
    "    d2 = abs(theoroots1(10**(-i))[1] - quadroots([1,1,10**(-i)])[1])\n",
    "    deltas[i-1] = [d1, d2]\n",
    "    \n",
    "plt.figure()\n",
    "plt.title(\"Figure 4. Absolute Errors in the Quadratic Roots, $a=b=1$\")\n",
    "plt.xlabel(r'$c$')\n",
    "plt.ylabel(r'$\\Delta(c)$')\n",
    "plt.xscale('log')\n",
    "plt.yscale('log')\n",
    "plt.grid()\n",
    "plt.plot(c, deltas[:,0], label=\"$\\Delta_{x_1}$\")\n",
    "plt.plot(c, deltas[:,1], label=\"$\\Delta_{x_2}$\")\n",
    "plt.legend(loc=\"best\")\n",
    "plt.show()"
   ]
  },
  {
   "cell_type": "markdown",
   "metadata": {},
   "source": [
    "These plots are consistent with the smallest absolute errors found in Figs. 2 and 3."
   ]
  }
 ],
 "metadata": {
  "kernelspec": {
   "display_name": "Python 3",
   "language": "python",
   "name": "python3"
  },
  "language_info": {
   "codemirror_mode": {
    "name": "ipython",
    "version": 3
   },
   "file_extension": ".py",
   "mimetype": "text/x-python",
   "name": "python",
   "nbconvert_exporter": "python",
   "pygments_lexer": "ipython3",
   "version": "3.7.6"
  }
 },
 "nbformat": 4,
 "nbformat_minor": 4
}
