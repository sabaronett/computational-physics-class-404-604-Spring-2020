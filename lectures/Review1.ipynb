{
 "cells": [
  {
   "cell_type": "markdown",
   "metadata": {},
   "source": [
    "# Review"
   ]
  },
  {
   "cell_type": "markdown",
   "metadata": {},
   "source": [
    "# 1. Python Basics\n",
    "\n",
    "## Viewing Jupyter notebook\n",
    "Sometimes the equations cannot be displayed correctly using the web browser. You can use nbview to get a better display for equations.\n",
    "https://nbviewer.jupyter.org/\n",
    "\n",
    "## Running Jupyter notebook online\n",
    "If you use the department computers, this may work \n",
    "(Please test this)\n",
    "https://jupyter.org/try\n",
    "\n",
    "### Variables\n",
    "\n",
    "### Data Types  \n",
    "    Python has 5 data types  \n",
    "    * Numbers\n",
    "    * String\n",
    "    * List\n",
    "    * Tuple\n",
    "    * Dictionary\n",
    "    \n",
    "### Operators and comparisons\n",
    "Normal definition:\n",
    "\n",
    "Arithmetic operators +, -, $*$, /, % (modulus), $**$ (power)\n",
    "\n",
    "### If-else and Indentation\n",
    "\n",
    "One of the most distinctive features of Python is its use of indentation to mark blocks of code.\n",
    "\n",
    "The colon (:) is significant and required. It separates the header of the compound statement from the body.\n",
    "The line after the colon must be indented.\n",
    "\n",
    "### loop"
   ]
  },
  {
   "cell_type": "code",
   "execution_count": 3,
   "metadata": {},
   "outputs": [
    {
     "name": "stdout",
     "output_type": "stream",
     "text": [
      "5050.0\n"
     ]
    }
   ],
   "source": [
    "import numpy as np\n",
    "\n",
    "# try this, calculate 1+2+3....+100\n",
    "b=0\n",
    "for a in np.arange(1.0,101,1):\n",
    "    b=b+a\n",
    "print(b)"
   ]
  },
  {
   "cell_type": "markdown",
   "metadata": {},
   "source": [
    "### making plots using matplotlib"
   ]
  },
  {
   "cell_type": "markdown",
   "metadata": {},
   "source": [
    "# 2. Numbers\n",
    "\n",
    "bit and byte (8 bits)\n",
    "\n",
    "## Integers:   \n",
    "\n",
    " ($-2^{n-1}$, $2^{n-1}$) where n is the number of bits used to store the signed integer\n",
    " \n",
    "## Floating point numbers:\n",
    "8 bytes\n",
    "\n",
    "Range \n",
    "\n",
    "[-$10^{308}$, -$10^{-324}$] [$10^{-324}$,10$^{308}$]\n",
    "\n",
    "## Machine precision\n",
    "1+$\\epsilon$=1, $\\epsilon\\sim10^{-16}$"
   ]
  },
  {
   "cell_type": "code",
   "execution_count": 4,
   "metadata": {},
   "outputs": [
    {
     "name": "stdout",
     "output_type": "stream",
     "text": [
      "eps= 0.5 one_plus_eps 1.5\n",
      "eps= 0.25 one_plus_eps 1.25\n",
      "eps= 0.125 one_plus_eps 1.125\n",
      "eps= 0.0625 one_plus_eps 1.0625\n",
      "eps= 0.03125 one_plus_eps 1.03125\n",
      "eps= 0.015625 one_plus_eps 1.015625\n",
      "eps= 0.0078125 one_plus_eps 1.0078125\n",
      "eps= 0.00390625 one_plus_eps 1.00390625\n",
      "eps= 0.001953125 one_plus_eps 1.001953125\n",
      "eps= 0.0009765625 one_plus_eps 1.0009765625\n",
      "eps= 0.00048828125 one_plus_eps 1.00048828125\n",
      "eps= 0.000244140625 one_plus_eps 1.000244140625\n",
      "eps= 0.0001220703125 one_plus_eps 1.0001220703125\n",
      "eps= 6.103515625e-05 one_plus_eps 1.00006103515625\n",
      "eps= 3.0517578125e-05 one_plus_eps 1.000030517578125\n",
      "eps= 1.52587890625e-05 one_plus_eps 1.0000152587890625\n",
      "eps= 7.62939453125e-06 one_plus_eps 1.0000076293945312\n",
      "eps= 3.814697265625e-06 one_plus_eps 1.0000038146972656\n",
      "eps= 1.9073486328125e-06 one_plus_eps 1.0000019073486328\n",
      "eps= 9.5367431640625e-07 one_plus_eps 1.0000009536743164\n",
      "eps= 4.76837158203125e-07 one_plus_eps 1.0000004768371582\n",
      "eps= 2.384185791015625e-07 one_plus_eps 1.000000238418579\n",
      "eps= 1.1920928955078125e-07 one_plus_eps 1.0000001192092896\n",
      "eps= 5.960464477539063e-08 one_plus_eps 1.0000000596046448\n",
      "eps= 2.9802322387695312e-08 one_plus_eps 1.0000000298023224\n",
      "eps= 1.4901161193847656e-08 one_plus_eps 1.0000000149011612\n",
      "eps= 7.450580596923828e-09 one_plus_eps 1.0000000074505806\n",
      "eps= 3.725290298461914e-09 one_plus_eps 1.0000000037252903\n",
      "eps= 1.862645149230957e-09 one_plus_eps 1.0000000018626451\n",
      "eps= 9.313225746154785e-10 one_plus_eps 1.0000000009313226\n",
      "eps= 4.656612873077393e-10 one_plus_eps 1.0000000004656613\n",
      "eps= 2.3283064365386963e-10 one_plus_eps 1.0000000002328306\n",
      "eps= 1.1641532182693481e-10 one_plus_eps 1.0000000001164153\n",
      "eps= 5.820766091346741e-11 one_plus_eps 1.0000000000582077\n",
      "eps= 2.9103830456733704e-11 one_plus_eps 1.0000000000291038\n",
      "eps= 1.4551915228366852e-11 one_plus_eps 1.000000000014552\n",
      "eps= 7.275957614183426e-12 one_plus_eps 1.000000000007276\n",
      "eps= 3.637978807091713e-12 one_plus_eps 1.000000000003638\n",
      "eps= 1.8189894035458565e-12 one_plus_eps 1.000000000001819\n",
      "eps= 9.094947017729282e-13 one_plus_eps 1.0000000000009095\n",
      "eps= 4.547473508864641e-13 one_plus_eps 1.0000000000004547\n",
      "eps= 2.2737367544323206e-13 one_plus_eps 1.0000000000002274\n",
      "eps= 1.1368683772161603e-13 one_plus_eps 1.0000000000001137\n",
      "eps= 5.684341886080802e-14 one_plus_eps 1.0000000000000568\n",
      "eps= 2.842170943040401e-14 one_plus_eps 1.0000000000000284\n",
      "eps= 1.4210854715202004e-14 one_plus_eps 1.0000000000000142\n",
      "eps= 7.105427357601002e-15 one_plus_eps 1.000000000000007\n",
      "eps= 3.552713678800501e-15 one_plus_eps 1.0000000000000036\n",
      "eps= 1.7763568394002505e-15 one_plus_eps 1.0000000000000018\n",
      "eps= 8.881784197001252e-16 one_plus_eps 1.0000000000000009\n",
      "eps= 4.440892098500626e-16 one_plus_eps 1.0000000000000004\n",
      "eps= 2.220446049250313e-16 one_plus_eps 1.0000000000000002\n",
      "eps= 1.1102230246251565e-16 one_plus_eps 1.0\n",
      "eps= 5.551115123125783e-17 one_plus_eps 1.0\n",
      "eps= 2.7755575615628914e-17 one_plus_eps 1.0\n",
      "eps= 1.3877787807814457e-17 one_plus_eps 1.0\n",
      "eps= 6.938893903907228e-18 one_plus_eps 1.0\n",
      "eps= 3.469446951953614e-18 one_plus_eps 1.0\n",
      "eps= 1.734723475976807e-18 one_plus_eps 1.0\n",
      "eps= 8.673617379884035e-19 one_plus_eps 1.0\n"
     ]
    }
   ],
   "source": [
    "# try it: determine your machine's precision\n",
    "\n",
    "N = 60\n",
    "eps =1.0\n",
    "\n",
    "for i in range(N):\n",
    "    eps = eps/2\n",
    "    one_plus_eps = 1.0 + eps\n",
    "    print('eps=',eps, 'one_plus_eps',one_plus_eps)"
   ]
  },
  {
   "cell_type": "markdown",
   "metadata": {},
   "source": [
    "## Error in operations\n",
    "\n",
    "### Addition\n",
    "The relative error is smaller than the maximum relative error.\n",
    "\n",
    "### Substract\n",
    " **Pay special attention to substraction (esp. for two numbers which are very close to each other)**\n",
    " \n",
    " The relative error is amplified by minuend/difference.\n",
    " \n",
    "### Multiplication\n",
    "\n",
    "the relative error of a product is smaller than the sum of the relative errors of the factors.\n",
    "\n",
    "### Division"
   ]
  },
  {
   "cell_type": "code",
   "execution_count": 5,
   "metadata": {},
   "outputs": [
    {
     "name": "stdout",
     "output_type": "stream",
     "text": [
      "0.2000000000000999866855977415980 0.2000000000000000111022302462516 0.0000000000000999755833674953465 0.0000000000001000000000000000030\n",
      " the relative of the difference is  0.00024416632504653535\n"
     ]
    }
   ],
   "source": [
    "# error in operations, substraction\n",
    "\n",
    "num1 = 0.2000000000001\n",
    "num2 = 0.2\n",
    "num3 = 0.0000000000001\n",
    "print(\"%.31f %.31f %.31f %.31f\"%(num1,num2, num1-num2, num3))\n",
    "print(\" the relative of the difference is \",abs((num1-num2)/num3-1))"
   ]
  },
  {
   "cell_type": "markdown",
   "metadata": {},
   "source": [
    "# 3. Efficient Algorithm\n",
    "**Dynamic Programming:  \n",
    "An algorithmic paradigm that solves a complex problem by breaking it into subproblems and stores the results of subproblems to avoid computing the same results again.**\n",
    "\n",
    "## Memoization method (Top down)\n",
    "\n",
    "## Tabulation Method (bottom-up)\n",
    "\n",
    "## The complexity of the algorithms\n",
    "\n",
    "Complexity is a rough approximation of the number of steps necessary to execute an algorithm. \n",
    "\n",
    "For example if we have an order of $N^2$ operations to process N elements, then $N^2$/2 and 3*$N^2$ are of one and the same quadratic order.\n",
    "\n",
    "Algorithm complexity is commonly represented with the O(f) notation e.g. O($N^2$)"
   ]
  },
  {
   "cell_type": "markdown",
   "metadata": {},
   "source": [
    "# 4. Errors\n",
    "\n",
    "## Round-off Error\n",
    "\n",
    "How to calculate sin(x) and exp(x): When to stop\n",
    "\n",
    "## Truncation Error\n",
    "\n",
    "Truncation error is the error made by   \n",
    "1) truncating an infinite sum and approximating it by a finite sum   \n",
    "2) discretization error: error due to taking a finite number for steps instead of an infinite number"
   ]
  },
  {
   "cell_type": "markdown",
   "metadata": {},
   "source": [
    "# 5. Differentiation\n",
    "\n",
    "## Forward difference:\n",
    "\\begin{equation}\n",
    "\\frac{d y(t)}{dt}_{fw} = \\frac{y(t+h)-y(t)}{h}\n",
    "\\end{equation}\n",
    "\n",
    "Error is $\\frac{h}{2!}*y''(t)...$, the leading error is O(h).\n",
    "\n",
    "## Central difference:\n",
    "\\begin{equation}\n",
    "\\frac{d y(t)}{dt}_{cd} = \\frac{y(t+h/2)-y(t-h/2)}{h}\n",
    "\\end{equation}\n",
    "\n",
    "Error is $O(h^2)$. "
   ]
  },
  {
   "cell_type": "code",
   "execution_count": 6,
   "metadata": {},
   "outputs": [],
   "source": [
    "import numpy as np\n",
    "\n",
    "def derifw(y,x,dx):\n",
    "    return (y(x+dx)-y(x))/dx\n",
    "\n",
    "def dericd(y,x,dx):\n",
    "    return (y(x+dx/2)-y(x-dx/2))/dx\n"
   ]
  },
  {
   "cell_type": "code",
   "execution_count": 7,
   "metadata": {},
   "outputs": [
    {
     "data": {
      "image/png": "[encoded data removed]",
      "text/plain": [
       "<matplotlib.figure.Figure at 0x1077d00b8>"
      ]
     },
     "metadata": {},
     "output_type": "display_data"
    }
   ],
   "source": [
    "import numpy as np\n",
    "import matplotlib.pyplot as plt\n",
    "x=1.0\n",
    "dxarr=[]\n",
    "yfwarr=[]\n",
    "ycdarr=[]\n",
    "\n",
    "for dx in 10**np.arange(-9., -0.5, 0.1):\n",
    "    y=derifw(np.sin,x,dx)\n",
    "    dxarr.append(dx)\n",
    "    yfwarr.append(y)\n",
    "    y=dericd(np.sin,x,dx)\n",
    "    ycdarr.append(y)\n",
    "\n",
    "    \n",
    "plt.plot(dxarr, np.abs(yfwarr-np.cos(1.)), 'b-', lw=2)  \n",
    "plt.plot(dxarr, np.abs(ycdarr-np.cos(1.)), 'g-', lw=2)  \n",
    "\n",
    "plt.xscale('log')\n",
    "plt.yscale('log')\n",
    "plt.xlabel('dx')\n",
    "plt.ylabel('Error')\n",
    "\n",
    "plt.show()"
   ]
  },
  {
   "cell_type": "markdown",
   "metadata": {},
   "source": [
    "## Error Assessment\n",
    "\n",
    "### Error Assessment\n",
    "\n",
    "The best results you can get is that the addtion of the round-off error and the truncation error is minimum. Since the truncation error decreases as h becomes small and the round-off error increases as h becomes small (subtraction cancellation), it means that the round-off error roughly equals the truncation error.\n",
    "\n",
    "For Forward difference, round-off:$y\\times\\epsilon_{machine}/h$, truncation: $y''\\times h/2$\n",
    "\n",
    "The best h $\\sim \\sqrt{\\epsilon}$ for Forward difference, and h $\\sim \\epsilon^{1/3}$ for central difference.\n",
    "So h for forward difference is $4\\times 10^{-8}$ and h for central difference is $3\\times 10^{-5}$.\n",
    "\n",
    "**More importantly**, the limiting error for the forward difference is  $3\\times 10^{-8}$ and for the central difference is $3\\times 10^{-11}$. \n",
    "\n",
    "**A higher order scheme gets a more accurate result with a bigger interval. Win-Win**"
   ]
  },
  {
   "cell_type": "markdown",
   "metadata": {},
   "source": [
    "# 6. Integration\n",
    "\n",
    "### Trapezoid Rule\n",
    "\n",
    "Evenly spaced x, include the endpoints so that there are N-1 intervals. Each interval (h) is (b-a)/(N-1)\n",
    "\\begin{equation}\n",
    "\\int_{x_{i}}^{x_{i}+h}f(x)dx=h\\frac{f_{i}+f_{i+1}}{2}\n",
    "\\end{equation}\n",
    "So\n",
    "\\begin{equation}\n",
    "\\int_{a}^{b}f(x)dx=\\frac{h}{2}f_{1}+h f_{2} + h f_{3}+......+h f_{N-1}+\\frac{h}{2}f_{N}\n",
    "\\end{equation}\n",
    "\n",
    "### Simpson's Rule\n",
    "\n",
    "\\begin{equation}\n",
    "\\int_{a}^{b}f(x)dx=\\frac{h}{3}f_{1}+\\frac{4h}{3}f_{2}+\\frac{2h}{3}f_{3}+\\frac{4h}{3}f_{4}+...+\\frac{4h}{3}f_{N-3}+\\frac{2h}{3}f_{N-2}+\\frac{4h}{3}f_{N-1}+\\frac{h}{3}f_{N}\n",
    "\\end{equation}\n",
    "**Note: N must be odd for Simpson's rule**\n",
    "\n",
    "### Error Assessment\n",
    "\n",
    "\\begin{equation}\n",
    "\\int_{x_{i}}^{x_{i}+h}f(x)dx=\\frac{h}{2}(f_{x_{i}}+f_{x_{i+1}})+O(f''h^3)\n",
    "\\end{equation}\n",
    "So the total absolute error for the entire region is O($f''h^3 N$) or O($f''(b-a)^3/N^2$) for the Trapezoid rule and O($f''h^5 N$) or O($f''(b-a)^5/N^4$) for the Simpson's rule.\n",
    "\n",
    "The round-off error after N summation is $\\sqrt{N}\\epsilon_{m}$ where $\\epsilon_{m}$ is the machine precision. Normally, the algorithm has the smallest error when the truncation error equals the round-off error.\n",
    "\\begin{equation}\n",
    "\\sqrt{N}\\epsilon_{m}\\sim \\frac{f''(b-a)^3}{f N^2}\\sim \\frac{1}{N^2}\n",
    "\\end{equation}\n",
    "\n",
    "Since $\\epsilon_{m}\\sim 10^{-15}$, $N\\sim 10^6$ and the error is $10^{-12}$\n",
    "\n",
    "For the Simpson's rule, $\\sqrt{N}\\epsilon_{m}\\sim 1/N^4$. We have $N=2154$ and the error is 5$\\times 10^{-14}$."
   ]
  },
  {
   "cell_type": "markdown",
   "metadata": {},
   "source": [
    "# 7.  How to solve equations numerically?\n",
    "\n",
    "## Most important thing: plot f(x) first.\n",
    "\n",
    "### Trial-and-Error Roots via Bisection\n",
    "\n",
    "###  Newton-Raphson Searching\n",
    "\n",
    "Want to find x so that f(x)=0 :   \n",
    "Starting with a guess at $x_{0}$, then try to correct it with $\\Delta x$:\n",
    "\\begin{equation}\n",
    "\\Delta x=-\\frac{f(x_{0})}{f'(x_{0})}\n",
    "\\end{equation}\n",
    "Then use $x_{0}=x_{0}+\\Delta x$ to update $x_{0}$.\n",
    "This repeated until it reaches a given precision. \n"
   ]
  },
  {
   "cell_type": "markdown",
   "metadata": {},
   "source": [
    "### Newton-Raphson for equations\n",
    "Find the solution for  \n",
    "\\begin{eqnarray}\n",
    "x_{1}^2+x_{1}x_{2}=10\\\\\n",
    "x_{2}+3x_{1}x_{2}^2=57\n",
    "\\end{eqnarray}\n",
    "\n",
    "\n",
    "\\begin{equation}\n",
    "{\\bf f(y)}=\\left[ \\begin{array}{c} f_{1}(\\bf{y}) \\\\ f_{2}(\\bf{y})  \\end{array}\\right] = \\left[ \\begin{array}{c} x_{1}^2+x_{1}x_{2}-10 \\\\ x_{2}+3x_{1}x_{2}^2-57 \\end{array}\\right] =0 \n",
    "\\end{equation}\n",
    "\n",
    "Make a guess ($x_{1},x_{2}$), and then correct it ($\\Delta x_{1},\\Delta x_{2}$)\n",
    "\n",
    "\\begin{equation}\n",
    "\\left[ \\begin{array}{c} f_{1}\\\\ f_{2} \\end{array}\\right] + \\begin{bmatrix} \\partial f_{1}/\\partial x_{1} & \\partial f_{1}/\\partial x_{2}  \\\\ \\partial f_{2}/\\partial x_{1} & \\partial f_{2}/\\partial x_{2} \\end{bmatrix}\\left[ \\begin{array}{c} \\Delta x_{1} \\\\ \\Delta x_{2}  \\end{array}\\right] =0 \n",
    "\\end{equation}\n",
    "\n",
    "So we want to solve the matrix equation\n",
    "\\begin{equation}\n",
    "F'\\Delta {\\bf{x}}=-\\bf{f}\n",
    "\\end{equation}\n",
    "Here we use bold font for a vector, the captal letter to represent a matrix\n",
    "\n",
    "For 2x2 array,\n",
    "\\begin{equation}\n",
    " \\begin{bmatrix} a & b \\\\c & d \\end{bmatrix}\\left[ \\begin{array}{c} \\Delta x_{1} \\\\ \\Delta x_{2}  \\end{array}\\right] =-\\left[ \\begin{array}{c} f_{1}\\\\ f_{2} \\end{array}\\right] \n",
    "\\end{equation}\n",
    "The solution is\n",
    "\\begin{eqnarray}\n",
    "\\Delta x_1=\\frac{bf_2-df_1}{ad-bc}\\\\\n",
    "\\Delta x_1=\\frac{cf_1-af_2}{ad-bc}\n",
    "\\end{eqnarray}"
   ]
  },
  {
   "cell_type": "code",
   "execution_count": null,
   "metadata": {},
   "outputs": [],
   "source": []
  }
 ],
 "metadata": {
  "kernelspec": {
   "display_name": "Python 3",
   "language": "python",
   "name": "python3"
  },
  "language_info": {
   "codemirror_mode": {
    "name": "ipython",
    "version": 3
   },
   "file_extension": ".py",
   "mimetype": "text/x-python",
   "name": "python",
   "nbconvert_exporter": "python",
   "pygments_lexer": "ipython3",
   "version": "3.7.6"
  }
 },
 "nbformat": 4,
 "nbformat_minor": 4
}
